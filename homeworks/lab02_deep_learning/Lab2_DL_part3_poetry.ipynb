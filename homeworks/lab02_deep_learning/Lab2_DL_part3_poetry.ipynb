{
  "cells": [
    {
      "cell_type": "markdown",
      "metadata": {
        "id": "ntvTeY0TYzD9"
      },
      "source": [
        "## Lab 2"
      ]
    },
    {
      "cell_type": "markdown",
      "metadata": {
        "id": "KMfyMrTyYzD-"
      },
      "source": [
        "### Part 3. Poetry generation\n",
        "\n",
        "Let's try to generate some poetry using RNNs. \n",
        "\n",
        "You have several choices here: \n",
        "\n",
        "* The Shakespeare sonnets, file `sonnets.txt` available in the notebook directory.\n",
        "\n",
        "* Роман в стихах \"Евгений Онегин\" Александра Сергеевича Пушкина. В предобработанном виде доступен по [ссылке](https://github.com/attatrol/data_sources/blob/master/onegin.txt).\n",
        "\n",
        "* Some other text source, if it will be approved by the course staff.\n",
        "\n",
        "Text generation can be designed in several steps:\n",
        "    \n",
        "1. Data loading.\n",
        "2. Dictionary generation.\n",
        "3. Data preprocessing.\n",
        "4. Model (neural network) training.\n",
        "5. Text generation (model evaluation).\n"
      ]
    },
    {
      "cell_type": "code",
      "execution_count": 1,
      "metadata": {
        "id": "Kd7q1PV9YzD-"
      },
      "outputs": [],
      "source": [
        "import string\n",
        "import os"
      ]
    },
    {
      "cell_type": "code",
      "source": [
        "import torch\n",
        "import torch.nn as nn\n",
        "import torchvision\n",
        "import torchvision.transforms as transforms\n",
        "import torchsummary\n",
        "import torch.nn.functional as F\n",
        "from IPython.display import clear_output\n",
        "from matplotlib import pyplot as plt\n",
        "from matplotlib.pyplot import figure\n",
        "import numpy as np\n",
        "import time\n",
        "from random import sample\n",
        "\n",
        "\n",
        "device = 'cuda:0' if torch.cuda.is_available() else 'cpu'"
      ],
      "metadata": {
        "id": "_9JQdx7iG2dX"
      },
      "execution_count": 48,
      "outputs": []
    },
    {
      "cell_type": "markdown",
      "metadata": {
        "id": "7EJDiLj8YzD_"
      },
      "source": [
        "### Data loading: Shakespeare"
      ]
    },
    {
      "cell_type": "markdown",
      "metadata": {
        "id": "TVkDDjqSYzD_"
      },
      "source": [
        "Shakespeare sonnets are awailable at this [link](http://www.gutenberg.org/ebooks/1041?msg=welcome_stranger). In addition, they are stored in the same directory as this notebook (`sonnetes.txt`). Simple preprocessing is already done for you in the next cell: all technical info is dropped."
      ]
    },
    {
      "cell_type": "code",
      "execution_count": 3,
      "metadata": {
        "collapsed": true,
        "id": "idlqQz3dYzD_",
        "colab": {
          "base_uri": "https://localhost:8080/"
        },
        "outputId": "994abdd5-2aee-42c5-9171-b9f4e2209e7b"
      },
      "outputs": [
        {
          "output_type": "stream",
          "name": "stdout",
          "text": [
            "--2022-12-13 09:53:15--  https://raw.githubusercontent.com/girafe-ai/ml-course/21f_basic/homeworks_basic/lab02_deep_learning/sonnets.txt\n",
            "Resolving raw.githubusercontent.com (raw.githubusercontent.com)... 185.199.108.133, 185.199.109.133, 185.199.110.133, ...\n",
            "Connecting to raw.githubusercontent.com (raw.githubusercontent.com)|185.199.108.133|:443... connected.\n",
            "HTTP request sent, awaiting response... 200 OK\n",
            "Length: 119748 (117K) [text/plain]\n",
            "Saving to: ‘sonnets.txt’\n",
            "\n",
            "sonnets.txt         100%[===================>] 116.94K  --.-KB/s    in 0.02s   \n",
            "\n",
            "2022-12-13 09:53:15 (5.65 MB/s) - ‘sonnets.txt’ saved [119748/119748]\n",
            "\n"
          ]
        }
      ],
      "source": [
        "# if not os.path.exists('sonnets.txt'):\n",
        "#     !wget https://raw.githubusercontent.com/girafe-ai/ml-course/21f_basic/homeworks_basic/lab02_deep_learning/sonnets.txt\n",
        "\n",
        "# with open('sonnets.txt', 'r') as iofile:\n",
        "#     text = iofile.readlines()\n",
        "    \n",
        "# TEXT_START = 45\n",
        "# TEXT_END = -368\n",
        "# text = text[TEXT_START : TEXT_END]\n",
        "# assert len(text) == 2616"
      ]
    },
    {
      "cell_type": "markdown",
      "metadata": {
        "id": "hqXoBlmHYzEA"
      },
      "source": [
        "In opposite to the in-class practice, this time we want to predict complex text. Let's reduce the complexity of the task and lowercase all the symbols.\n",
        "\n",
        "Now variable `text` is a list of strings. Join all the strings into one and lowercase it."
      ]
    },
    {
      "cell_type": "code",
      "execution_count": 9,
      "metadata": {
        "id": "t8oJesjyYzEA",
        "colab": {
          "base_uri": "https://localhost:8080/"
        },
        "outputId": "33660da5-3e50-4d42-8e46-f78025083276"
      },
      "outputs": [
        {
          "output_type": "stream",
          "name": "stdout",
          "text": [
            "OK!\n"
          ]
        }
      ],
      "source": [
        "# # Join all the strings into one and lowercase it\n",
        "# # Put result into variable text.\n",
        "\n",
        "# # Your great code here\n",
        "# text = ''.join(text).lower()\n",
        "\n",
        "\n",
        "# assert len(text) == 100225, 'Are you sure you have concatenated all the strings?'\n",
        "# assert not any([x in set(text) for x in string.ascii_uppercase]), 'Uppercase letters are present'\n",
        "# print('OK!')"
      ]
    },
    {
      "cell_type": "markdown",
      "metadata": {
        "id": "kaJ6iMEUYzEA"
      },
      "source": [
        "### Data loading: \"Евгений Онегин\"\n"
      ]
    },
    {
      "cell_type": "code",
      "execution_count": 252,
      "metadata": {
        "id": "U4lH0Vf2YzEA",
        "outputId": "867a5c6d-6c37-436e-85ab-3f2bdc77471a",
        "colab": {
          "base_uri": "https://localhost:8080/"
        }
      },
      "outputs": [
        {
          "output_type": "stream",
          "name": "stdout",
          "text": [
            "--2022-12-13 16:31:29--  https://raw.githubusercontent.com/attatrol/data_sources/master/onegin.txt\n",
            "Resolving raw.githubusercontent.com (raw.githubusercontent.com)... 185.199.108.133, 185.199.109.133, 185.199.110.133, ...\n",
            "Connecting to raw.githubusercontent.com (raw.githubusercontent.com)|185.199.108.133|:443... connected.\n",
            "HTTP request sent, awaiting response... 200 OK\n",
            "Length: 262521 (256K) [text/plain]\n",
            "Saving to: ‘onegin.txt.1’\n",
            "\n",
            "\ronegin.txt.1          0%[                    ]       0  --.-KB/s               \ronegin.txt.1        100%[===================>] 256.37K  --.-KB/s    in 0.03s   \n",
            "\n",
            "2022-12-13 16:31:29 (8.00 MB/s) - ‘onegin.txt.1’ saved [262521/262521]\n",
            "\n"
          ]
        }
      ],
      "source": [
        "!wget https://raw.githubusercontent.com/attatrol/data_sources/master/onegin.txt\n",
        "    \n",
        "with open('onegin.txt', 'r') as iofile:\n",
        "    text = iofile.readlines()\n",
        "    \n",
        "text = [x.replace('\\t\\t', '') for x in text]\n",
        "text = ''.join(text).lower()"
      ]
    },
    {
      "cell_type": "markdown",
      "metadata": {
        "id": "eYXgZi2xYzEB"
      },
      "source": [
        "In opposite to the in-class practice, this time we want to predict complex text. Let's reduce the complexity of the task and lowercase all the symbols.\n",
        "\n",
        "Now variable `text` is a list of strings. Join all the strings into one and lowercase it."
      ]
    },
    {
      "cell_type": "markdown",
      "metadata": {
        "id": "cJNsqv8DYzEB"
      },
      "source": [
        "Put all the characters, that you've seen in the text, into variable `tokens`."
      ]
    },
    {
      "cell_type": "code",
      "source": [
        "SOS = '<' #start of sequence token\n",
        "EOF = '>' #end of sequence token\n",
        "SOS in set(text) or EOF in set(text)"
      ],
      "metadata": {
        "colab": {
          "base_uri": "https://localhost:8080/"
        },
        "id": "NbWl2P2YTFn4",
        "outputId": "998b3167-073e-4d26-c009-9716bf66c263"
      },
      "execution_count": 253,
      "outputs": [
        {
          "output_type": "execute_result",
          "data": {
            "text/plain": [
              "False"
            ]
          },
          "metadata": {},
          "execution_count": 253
        }
      ]
    },
    {
      "cell_type": "code",
      "execution_count": 254,
      "metadata": {
        "id": "y75qko8QYzEB"
      },
      "outputs": [],
      "source": [
        "tokens = sorted(set(text))\n",
        "tokens.append(SOS)\n",
        "tokens.append(EOF)"
      ]
    },
    {
      "cell_type": "code",
      "source": [
        "tokens"
      ],
      "metadata": {
        "colab": {
          "base_uri": "https://localhost:8080/"
        },
        "id": "FUDe5svITBz9",
        "outputId": "bd106239-0ab3-43ee-84cb-b35ab7d25e68"
      },
      "execution_count": 255,
      "outputs": [
        {
          "output_type": "execute_result",
          "data": {
            "text/plain": [
              "['\\n',\n",
              " ' ',\n",
              " '!',\n",
              " '(',\n",
              " ')',\n",
              " ',',\n",
              " '-',\n",
              " '.',\n",
              " '5',\n",
              " '7',\n",
              " '8',\n",
              " '9',\n",
              " ':',\n",
              " ';',\n",
              " '?',\n",
              " '[',\n",
              " ']',\n",
              " '^',\n",
              " 'a',\n",
              " 'b',\n",
              " 'c',\n",
              " 'd',\n",
              " 'e',\n",
              " 'f',\n",
              " 'g',\n",
              " 'h',\n",
              " 'i',\n",
              " 'k',\n",
              " 'l',\n",
              " 'm',\n",
              " 'n',\n",
              " 'o',\n",
              " 'p',\n",
              " 'q',\n",
              " 'r',\n",
              " 's',\n",
              " 't',\n",
              " 'u',\n",
              " 'v',\n",
              " 'w',\n",
              " 'x',\n",
              " 'y',\n",
              " 'z',\n",
              " '«',\n",
              " '»',\n",
              " 'а',\n",
              " 'б',\n",
              " 'в',\n",
              " 'г',\n",
              " 'д',\n",
              " 'е',\n",
              " 'ж',\n",
              " 'з',\n",
              " 'и',\n",
              " 'й',\n",
              " 'к',\n",
              " 'л',\n",
              " 'м',\n",
              " 'н',\n",
              " 'о',\n",
              " 'п',\n",
              " 'р',\n",
              " 'с',\n",
              " 'т',\n",
              " 'у',\n",
              " 'ф',\n",
              " 'х',\n",
              " 'ц',\n",
              " 'ч',\n",
              " 'ш',\n",
              " 'щ',\n",
              " 'ъ',\n",
              " 'ы',\n",
              " 'ь',\n",
              " 'э',\n",
              " 'ю',\n",
              " 'я',\n",
              " 'ё',\n",
              " '–',\n",
              " '—',\n",
              " '’',\n",
              " '…',\n",
              " '€',\n",
              " '<',\n",
              " '>']"
            ]
          },
          "metadata": {},
          "execution_count": 255
        }
      ]
    },
    {
      "cell_type": "markdown",
      "metadata": {
        "id": "7BNsohKJYzEC"
      },
      "source": [
        "Create dictionary `token_to_idx = {<char>: <index>}` and dictionary `idx_to_token = {<index>: <char>}`"
      ]
    },
    {
      "cell_type": "code",
      "execution_count": 256,
      "metadata": {
        "collapsed": true,
        "id": "a3yKpCauYzEC"
      },
      "outputs": [],
      "source": [
        "# dict <index>:<char>\n",
        "# Your great code here\n",
        "token_to_idx = {u:i for i, u in enumerate(tokens)}\n",
        "\n",
        "# dict <char>:<index>\n",
        "# Your great code here\n",
        "idx_to_token = {i:u for i, u in enumerate(tokens)}"
      ]
    },
    {
      "cell_type": "markdown",
      "metadata": {
        "id": "Qwq2dzTqYzEC"
      },
      "source": [
        "*Comment: in this task we have only 38 different tokens, so let's use one-hot encoding.*"
      ]
    },
    {
      "cell_type": "markdown",
      "metadata": {
        "id": "Uovx-kyRYzEC"
      },
      "source": [
        "### Building the model"
      ]
    },
    {
      "cell_type": "markdown",
      "metadata": {
        "id": "KxKGmW_DYzEC"
      },
      "source": [
        "Now we want to build and train recurrent neural net which would be able to something similar to Shakespeare's poetry.\n",
        "\n",
        "Let's use vanilla RNN, similar to the one created during the lesson."
      ]
    },
    {
      "cell_type": "code",
      "source": [
        "num_tokens = len(tokens)\n",
        "RNN_SIZE = 256 #The number of features in the hidden state h\n",
        "EMBEDDING_SIZE = 64 # The number of features in the input x/How mane features reperesent token\n",
        "SEQUENCE_SIZE = 100 # Length of each sequence/Number of hidden layers\n",
        "BATCH_SIZE = 64\n",
        "EPOCHS = 100"
      ],
      "metadata": {
        "id": "oAHxcMihH4lx"
      },
      "execution_count": 257,
      "outputs": []
    },
    {
      "cell_type": "code",
      "source": [
        "def to_matrix(text, token_to_idx=token_to_idx, seq_size=SEQUENCE_SIZE, batch_size=BATCH_SIZE):\n",
        "    \"\"\"\n",
        "    Casts a text into rnn-digestable matrix of shape (batch_size * num_batches) x (seq_size + 2).\n",
        "    \"\"\"\n",
        "    char_ints = [token_to_idx[char] for char in text]\n",
        "    num_batches = int(len(char_ints) / (batch_size * seq_size)) # if we don't have enough tokens for last batch, then it's delested\n",
        "    matrix = np.zeros((num_batches * batch_size, seq_size + 2), dtype='int32')\n",
        "\n",
        "    for i in range(batch_size * num_batches):\n",
        "        matrix[i] = [token_to_idx[SOS]] + char_ints[i * seq_size:(i + 1) * seq_size] + [token_to_idx[EOF]]\n",
        "\n",
        "    return matrix"
      ],
      "metadata": {
        "id": "-eRcUbdKUXPb"
      },
      "execution_count": 258,
      "outputs": []
    },
    {
      "cell_type": "code",
      "source": [
        "print(to_matrix(text))"
      ],
      "metadata": {
        "colab": {
          "base_uri": "https://localhost:8080/"
        },
        "id": "d-ggiiOqUknY",
        "outputId": "7a2b9822-9a4f-4059-d4d8-669e291ff5cb"
      },
      "execution_count": 259,
      "outputs": [
        {
          "output_type": "stream",
          "name": "stdout",
          "text": [
            "[[83  0 26 ... 64 57 84]\n",
            " [83 45 63 ... 59 63 84]\n",
            " [83 66 59 ... 60 59 84]\n",
            " ...\n",
            " [83 53  1 ... 53 57 84]\n",
            " [83  0 49 ...  1 56 84]\n",
            " [83 53 14 ... 55 45 84]]\n"
          ]
        }
      ]
    },
    {
      "cell_type": "code",
      "source": [
        "assert len(text) - len(to_matrix(text, token_to_idx)) * len(to_matrix(text, token_to_idx)[0]) < BATCH_SIZE * SEQUENCE_SIZE\n",
        "assert len(to_matrix(text, token_to_idx)) % BATCH_SIZE == 0"
      ],
      "metadata": {
        "id": "uyhwO-CQgOZa"
      },
      "execution_count": 260,
      "outputs": []
    },
    {
      "cell_type": "code",
      "execution_count": 261,
      "metadata": {
        "collapsed": true,
        "id": "M6PzUnkbYzED"
      },
      "outputs": [],
      "source": [
        "class VanilaRNN(nn.Module):\n",
        "    def __init__(self, num_tokens=num_tokens, emb_size=EMBEDDING_SIZE, rnn_num_units=RNN_SIZE):\n",
        "        super(self.__class__, self).__init__()\n",
        "        self.num_units = rnn_num_units\n",
        "        self.emb = nn.Embedding(num_tokens, emb_size)\n",
        "        self.rnn = nn.RNN(emb_size, rnn_num_units, batch_first=True)\n",
        "        self.hid_to_logits = nn.Linear(rnn_num_units, num_tokens)\n",
        "\n",
        "    def forward(self, x, h_prev):\n",
        "        h_seq, h_state = self.rnn(self.emb(x), h_prev)\n",
        "        next_logits = self.hid_to_logits(h_seq)\n",
        "        return next_logits, h_state\n",
        "\n",
        "    def initial_state(self, batch_size):\n",
        "        \"\"\" return rnn state before it processes first input (aka h0) \"\"\"\n",
        "        return torch.zeros(1, batch_size, self.num_units, requires_grad=True)\n",
        "    \n",
        "model = VanilaRNN().to(device)\n",
        "opt = torch.optim.Adam(model.parameters(), lr=1e-3)\n",
        "loss_func = nn.CrossEntropyLoss()"
      ]
    },
    {
      "cell_type": "code",
      "source": [
        "def train_model(model, text, loss_func=loss_func, opt=opt, is_lstm=False):\n",
        "    batches = to_matrix(text)\n",
        "    train_loss = []\n",
        "    for epoch in range(EPOCHS):\n",
        "        ep_train_loss = []\n",
        "        permutation = torch.randperm(len(batches))\n",
        "        start_time = time.time()\n",
        "\n",
        "        model.train()\n",
        "        if is_lstm:\n",
        "            state_h, state_c = model.initial_state(BATCH_SIZE)\n",
        "            state_h = state_h.to(device)\n",
        "            state_c = state_c.to(device)\n",
        "        else:\n",
        "            hid_state = model.initial_state(BATCH_SIZE).to(device)\n",
        "        for i in range(0, len(batches), BATCH_SIZE):\n",
        "            batch_ind = permutation[i:i + BATCH_SIZE]\n",
        "            batch = torch.tensor(batches[batch_ind], dtype=torch.int64).to(device)\n",
        "            \n",
        "            if is_lstm:\n",
        "                logits_seq, (state_h, state_c) = model(batch, (state_h, state_c))\n",
        "                state_h = state_h.detach()\n",
        "                state_c = state_c.detach()\n",
        "            else:\n",
        "                logits_seq, hid_state = model(batch, hid_state)\n",
        "                hid_state = hid_state.detach()\n",
        "            # compute loss\n",
        "            predictions_logits = logits_seq[:, :-1]\n",
        "            actual_next_tokens = batch[:, 1:]\n",
        "\n",
        "            loss = loss_func(\n",
        "                predictions_logits.reshape((-1, num_tokens)),\n",
        "                actual_next_tokens.reshape(-1)\n",
        "            )\n",
        "            loss.backward()\n",
        "\n",
        "            opt.step()\n",
        "            opt.zero_grad()\n",
        "            ep_train_loss.append(loss.item())\n",
        "\n",
        "        train_loss.append(np.mean(ep_train_loss))\n",
        "        print(f'Epoch {epoch + 1} of {EPOCHS} took {time.time() - start_time:.3f}s')\n",
        "        print(f\"\\t  training loss: {train_loss[-1]:.6f}\")\n",
        "    return train_loss"
      ],
      "metadata": {
        "id": "YgNHZqeXmBmc"
      },
      "execution_count": 270,
      "outputs": []
    },
    {
      "cell_type": "code",
      "source": [
        "loss = train_model(model, text)"
      ],
      "metadata": {
        "colab": {
          "base_uri": "https://localhost:8080/"
        },
        "id": "-BouaLkX3vii",
        "outputId": "ca643cdd-251d-4b1e-cc23-0b9639170495"
      },
      "execution_count": 263,
      "outputs": [
        {
          "output_type": "stream",
          "name": "stdout",
          "text": [
            "Epoch 1 of 100 took 2.591s\n",
            "\t  training loss: 3.509656\n",
            "Epoch 2 of 100 took 2.611s\n",
            "\t  training loss: 2.956570\n",
            "Epoch 3 of 100 took 2.534s\n",
            "\t  training loss: 2.741417\n",
            "Epoch 4 of 100 took 2.544s\n",
            "\t  training loss: 2.618251\n",
            "Epoch 5 of 100 took 2.534s\n",
            "\t  training loss: 2.543511\n",
            "Epoch 6 of 100 took 2.578s\n",
            "\t  training loss: 2.488120\n",
            "Epoch 7 of 100 took 2.523s\n",
            "\t  training loss: 2.442240\n",
            "Epoch 8 of 100 took 2.531s\n",
            "\t  training loss: 2.402827\n",
            "Epoch 9 of 100 took 2.566s\n",
            "\t  training loss: 2.367663\n",
            "Epoch 10 of 100 took 2.612s\n",
            "\t  training loss: 2.333281\n",
            "Epoch 11 of 100 took 2.520s\n",
            "\t  training loss: 2.302429\n",
            "Epoch 12 of 100 took 2.526s\n",
            "\t  training loss: 2.275947\n",
            "Epoch 13 of 100 took 2.520s\n",
            "\t  training loss: 2.252339\n",
            "Epoch 14 of 100 took 2.551s\n",
            "\t  training loss: 2.226297\n",
            "Epoch 15 of 100 took 2.526s\n",
            "\t  training loss: 2.203893\n",
            "Epoch 16 of 100 took 2.525s\n",
            "\t  training loss: 2.184013\n",
            "Epoch 17 of 100 took 2.523s\n",
            "\t  training loss: 2.164145\n",
            "Epoch 18 of 100 took 2.579s\n",
            "\t  training loss: 2.144219\n",
            "Epoch 19 of 100 took 2.536s\n",
            "\t  training loss: 2.125225\n",
            "Epoch 20 of 100 took 2.540s\n",
            "\t  training loss: 2.110536\n",
            "Epoch 21 of 100 took 2.568s\n",
            "\t  training loss: 2.094709\n",
            "Epoch 22 of 100 took 2.606s\n",
            "\t  training loss: 2.079652\n",
            "Epoch 23 of 100 took 2.530s\n",
            "\t  training loss: 2.063493\n",
            "Epoch 24 of 100 took 2.523s\n",
            "\t  training loss: 2.054229\n",
            "Epoch 25 of 100 took 2.539s\n",
            "\t  training loss: 2.040184\n",
            "Epoch 26 of 100 took 2.557s\n",
            "\t  training loss: 2.028883\n",
            "Epoch 27 of 100 took 2.513s\n",
            "\t  training loss: 2.018262\n",
            "Epoch 28 of 100 took 2.523s\n",
            "\t  training loss: 2.001895\n",
            "Epoch 29 of 100 took 2.533s\n",
            "\t  training loss: 1.990824\n",
            "Epoch 30 of 100 took 2.566s\n",
            "\t  training loss: 1.979109\n",
            "Epoch 31 of 100 took 2.523s\n",
            "\t  training loss: 1.968952\n",
            "Epoch 32 of 100 took 2.525s\n",
            "\t  training loss: 1.959101\n",
            "Epoch 33 of 100 took 2.565s\n",
            "\t  training loss: 1.950105\n",
            "Epoch 34 of 100 took 2.527s\n",
            "\t  training loss: 1.939200\n",
            "Epoch 35 of 100 took 2.550s\n",
            "\t  training loss: 1.931471\n",
            "Epoch 36 of 100 took 2.544s\n",
            "\t  training loss: 1.923429\n",
            "Epoch 37 of 100 took 2.538s\n",
            "\t  training loss: 1.917432\n",
            "Epoch 38 of 100 took 2.611s\n",
            "\t  training loss: 1.903976\n",
            "Epoch 39 of 100 took 2.557s\n",
            "\t  training loss: 1.892967\n",
            "Epoch 40 of 100 took 2.561s\n",
            "\t  training loss: 1.888780\n",
            "Epoch 41 of 100 took 2.553s\n",
            "\t  training loss: 1.879799\n",
            "Epoch 42 of 100 took 2.555s\n",
            "\t  training loss: 1.869785\n",
            "Epoch 43 of 100 took 2.553s\n",
            "\t  training loss: 1.861490\n",
            "Epoch 44 of 100 took 2.544s\n",
            "\t  training loss: 1.855511\n",
            "Epoch 45 of 100 took 2.519s\n",
            "\t  training loss: 1.846127\n",
            "Epoch 46 of 100 took 2.525s\n",
            "\t  training loss: 1.838956\n",
            "Epoch 47 of 100 took 2.529s\n",
            "\t  training loss: 1.834418\n",
            "Epoch 48 of 100 took 2.524s\n",
            "\t  training loss: 1.826257\n",
            "Epoch 49 of 100 took 2.519s\n",
            "\t  training loss: 1.817586\n",
            "Epoch 50 of 100 took 2.553s\n",
            "\t  training loss: 1.815399\n",
            "Epoch 51 of 100 took 2.579s\n",
            "\t  training loss: 1.808332\n",
            "Epoch 52 of 100 took 2.531s\n",
            "\t  training loss: 1.796597\n",
            "Epoch 53 of 100 took 2.537s\n",
            "\t  training loss: 1.789794\n",
            "Epoch 54 of 100 took 2.533s\n",
            "\t  training loss: 1.788532\n",
            "Epoch 55 of 100 took 2.534s\n",
            "\t  training loss: 1.777303\n",
            "Epoch 56 of 100 took 2.514s\n",
            "\t  training loss: 1.772182\n",
            "Epoch 57 of 100 took 2.528s\n",
            "\t  training loss: 1.764872\n",
            "Epoch 58 of 100 took 2.561s\n",
            "\t  training loss: 1.757965\n",
            "Epoch 59 of 100 took 2.526s\n",
            "\t  training loss: 1.753026\n",
            "Epoch 60 of 100 took 2.561s\n",
            "\t  training loss: 1.748170\n",
            "Epoch 61 of 100 took 2.537s\n",
            "\t  training loss: 1.741715\n",
            "Epoch 62 of 100 took 2.520s\n",
            "\t  training loss: 1.736662\n",
            "Epoch 63 of 100 took 2.651s\n",
            "\t  training loss: 1.730005\n",
            "Epoch 64 of 100 took 2.575s\n",
            "\t  training loss: 1.725137\n",
            "Epoch 65 of 100 took 2.545s\n",
            "\t  training loss: 1.717521\n",
            "Epoch 66 of 100 took 2.566s\n",
            "\t  training loss: 1.712223\n",
            "Epoch 67 of 100 took 2.594s\n",
            "\t  training loss: 1.712111\n",
            "Epoch 68 of 100 took 2.539s\n",
            "\t  training loss: 1.702481\n",
            "Epoch 69 of 100 took 2.558s\n",
            "\t  training loss: 1.696833\n",
            "Epoch 70 of 100 took 2.561s\n",
            "\t  training loss: 1.689645\n",
            "Epoch 71 of 100 took 2.565s\n",
            "\t  training loss: 1.686198\n",
            "Epoch 72 of 100 took 2.662s\n",
            "\t  training loss: 1.679588\n",
            "Epoch 73 of 100 took 2.599s\n",
            "\t  training loss: 1.672471\n",
            "Epoch 74 of 100 took 2.598s\n",
            "\t  training loss: 1.668009\n",
            "Epoch 75 of 100 took 2.589s\n",
            "\t  training loss: 1.666457\n",
            "Epoch 76 of 100 took 2.538s\n",
            "\t  training loss: 1.659505\n",
            "Epoch 77 of 100 took 2.533s\n",
            "\t  training loss: 1.658059\n",
            "Epoch 78 of 100 took 2.536s\n",
            "\t  training loss: 1.647784\n",
            "Epoch 79 of 100 took 2.551s\n",
            "\t  training loss: 1.641244\n",
            "Epoch 80 of 100 took 2.552s\n",
            "\t  training loss: 1.637601\n",
            "Epoch 81 of 100 took 2.516s\n",
            "\t  training loss: 1.632342\n",
            "Epoch 82 of 100 took 2.532s\n",
            "\t  training loss: 1.627514\n",
            "Epoch 83 of 100 took 2.557s\n",
            "\t  training loss: 1.622535\n",
            "Epoch 84 of 100 took 2.536s\n",
            "\t  training loss: 1.622307\n",
            "Epoch 85 of 100 took 2.524s\n",
            "\t  training loss: 1.615938\n",
            "Epoch 86 of 100 took 2.499s\n",
            "\t  training loss: 1.607550\n",
            "Epoch 87 of 100 took 2.538s\n",
            "\t  training loss: 1.605798\n",
            "Epoch 88 of 100 took 2.522s\n",
            "\t  training loss: 1.599663\n",
            "Epoch 89 of 100 took 2.568s\n",
            "\t  training loss: 1.595644\n",
            "Epoch 90 of 100 took 2.528s\n",
            "\t  training loss: 1.593223\n",
            "Epoch 91 of 100 took 2.579s\n",
            "\t  training loss: 1.587339\n",
            "Epoch 92 of 100 took 2.554s\n",
            "\t  training loss: 1.580823\n",
            "Epoch 93 of 100 took 2.524s\n",
            "\t  training loss: 1.575315\n",
            "Epoch 94 of 100 took 2.550s\n",
            "\t  training loss: 1.569515\n",
            "Epoch 95 of 100 took 2.556s\n",
            "\t  training loss: 1.567890\n",
            "Epoch 96 of 100 took 2.515s\n",
            "\t  training loss: 1.562968\n",
            "Epoch 97 of 100 took 2.542s\n",
            "\t  training loss: 1.557821\n",
            "Epoch 98 of 100 took 2.505s\n",
            "\t  training loss: 1.551522\n",
            "Epoch 99 of 100 took 2.522s\n",
            "\t  training loss: 1.553314\n",
            "Epoch 100 of 100 took 2.531s\n",
            "\t  training loss: 1.550161\n"
          ]
        }
      ]
    },
    {
      "cell_type": "markdown",
      "metadata": {
        "id": "hVLtuUGKYzED"
      },
      "source": [
        "Plot the loss function (axis X: number of epochs, axis Y: loss function)."
      ]
    },
    {
      "cell_type": "code",
      "execution_count": 264,
      "metadata": {
        "collapsed": true,
        "id": "TxuoRzhmYzED"
      },
      "outputs": [],
      "source": [
        "def plot_loss(loss):\n",
        "    plt.figure(figsize=(15, 5))\n",
        "\n",
        "    plt.title(\"Loss\")\n",
        "    plt.xlabel(\"#epoch\")\n",
        "    plt.ylabel(\"loss\")\n",
        "    plt.plot(loss)\n",
        "    plt.grid(True)\n",
        "    plt.show()"
      ]
    },
    {
      "cell_type": "code",
      "source": [
        "plot_loss(loss)"
      ],
      "metadata": {
        "colab": {
          "base_uri": "https://localhost:8080/",
          "height": 349
        },
        "id": "sFnA6uiX9__B",
        "outputId": "67965044-4a47-46a9-8dcd-450967e112ba"
      },
      "execution_count": 265,
      "outputs": [
        {
          "output_type": "display_data",
          "data": {
            "text/plain": [
              "<Figure size 1080x360 with 1 Axes>"
            ],
            "image/png": "[encoded data removed]"
          },
          "metadata": {
            "needs_background": "light"
          }
        }
      ]
    },
    {
      "cell_type": "code",
      "execution_count": 271,
      "metadata": {
        "id": "_fDp52GZYzED"
      },
      "outputs": [],
      "source": [
        "def generate_text(model, seed_phrase=SOS, temperature=1.0, token_to_idx=token_to_idx, idx_to_token=idx_to_token, max_length=100, is_lstm=False):\n",
        "    '''\n",
        "    ### Disclaimer: this is an example function for text generation.\n",
        "    ### You can either adapt it in your code or create your own function\n",
        "    \n",
        "    The function generates text given a phrase of length at least SEQ_LENGTH.\n",
        "    :param seed_phrase: prefix characters. The RNN is asked to continue the phrase\n",
        "    :param max_length: maximum output length, including seed_phrase\n",
        "    :param temperature: coefficient for sampling.  higher temperature produces more chaotic outputs, \n",
        "        smaller temperature converges to the single most likely output.\n",
        "        \n",
        "    Be careful with the model output. This model waits logits (not probabilities/log-probabilities)\n",
        "    of the next symbol.\n",
        "    '''\n",
        "    \n",
        "    model.eval()\n",
        "    with torch.no_grad():\n",
        "        x_sequence = [token_to_idx[token] for token in seed_phrase]\n",
        "        if is_lstm:\n",
        "            state_h, state_c = model.initial_state(1)\n",
        "            state_h = state_h.to(device)\n",
        "            state_c = state_c.to(device)\n",
        "        else:\n",
        "            hid_state = model.initial_state(1).to(device)\n",
        "\n",
        "        #feed the seed phrase, if any\n",
        "        for i in range(len(seed_phrase)):\n",
        "            ix = torch.tensor([[x_sequence[i]]]).to(device)\n",
        "            if is_lstm:\n",
        "                logits_next, (state_h, state_c) = model(ix, (state_h, state_c))\n",
        "            else:\n",
        "                logits_next, hid_state = model(ix, hid_state)\n",
        "        #start generating\n",
        "        for _ in range(max_length - len(seed_phrase)):\n",
        "            ix = torch.tensor([[x_sequence[i]]]).to(device)\n",
        "            ix = torch.tensor([[x_sequence[-1]]]).to(device)\n",
        "            if is_lstm:\n",
        "                logits_next, (state_h, state_c) = model(ix, (state_h, state_c))\n",
        "            else:\n",
        "                logits_next, hid_state = model(ix, hid_state)\n",
        "            # Be really careful here with the model output\n",
        "            p_next = F.softmax(logits_next / temperature, dim=-1).data.numpy()[0][0]\n",
        "            \n",
        "            # sample next token and push it back into x_sequence\n",
        "            next_ix = np.random.choice(len(tokens), p=p_next)\n",
        "            if next_ix == token_to_idx[EOF]:\n",
        "                break\n",
        "            x_sequence.append(next_ix)\n",
        "\n",
        "        \n",
        "    return ''.join([idx_to_token[ix] for ix in x_sequence])"
      ]
    },
    {
      "cell_type": "code",
      "execution_count": 272,
      "metadata": {
        "id": "Fv_q7ghyYzEE",
        "outputId": "c5a73104-502c-4619-8d68-28e86790868a",
        "colab": {
          "base_uri": "https://localhost:8080/"
        }
      },
      "outputs": [
        {
          "output_type": "stream",
          "name": "stdout",
          "text": [
            "любимая екатерина постойтет\n",
            "на простительно не умела\n",
            "пора долго в нем старый своей.\n",
            "\n",
            "\n",
            "\n",
            "xxxiii\n",
            "\n",
            "он был по небо весель\n"
          ]
        }
      ],
      "source": [
        "# An example of generated text.\n",
        "print(generate_text(model, seed_phrase='любимая екатерина постойте', max_length=500, temperature=0.2))"
      ]
    },
    {
      "cell_type": "markdown",
      "metadata": {
        "id": "IIBftyD7YzEE"
      },
      "source": [
        "### More poetic model\n",
        "\n",
        "Let's use LSTM instead of vanilla RNN and compare the results."
      ]
    },
    {
      "cell_type": "code",
      "source": [
        "class LSTM(nn.Module):\n",
        "    def __init__(self, num_tokens=num_tokens, emb_size=EMBEDDING_SIZE, rnn_num_units=RNN_SIZE):\n",
        "        super(self.__class__, self).__init__()\n",
        "        self.num_units = rnn_num_units\n",
        "        self.emb = nn.Embedding(num_tokens, emb_size)\n",
        "        self.rnn = nn.LSTM(emb_size, rnn_num_units, batch_first=True)\n",
        "        self.hid_to_logits = nn.Linear(rnn_num_units, num_tokens)\n",
        "\n",
        "    def forward(self, x, h_prev):\n",
        "        h_seq, h_state = self.rnn(self.emb(x), h_prev)\n",
        "        next_logits = self.hid_to_logits(h_seq)\n",
        "        return next_logits, h_state\n",
        "\n",
        "    def initial_state(self, batch_size):\n",
        "        \"\"\" return rnn state before it processes first input (aka h0) \"\"\"\n",
        "        return torch.zeros(1, batch_size, self.num_units, requires_grad=True), torch.zeros(1, batch_size, self.num_units, requires_grad=True)\n",
        "    \n",
        "model = LSTM().to(device)\n",
        "opt = torch.optim.Adam(model.parameters(), lr=1e-3)\n",
        "loss_func = nn.CrossEntropyLoss()"
      ],
      "metadata": {
        "id": "Q0vVuOcuWl3N"
      },
      "execution_count": 280,
      "outputs": []
    },
    {
      "cell_type": "code",
      "source": [
        "loss = train_model(model, text, is_lstm=True, opt=opt, loss_func=loss_func)"
      ],
      "metadata": {
        "colab": {
          "base_uri": "https://localhost:8080/"
        },
        "id": "vZaMvNWYYJy6",
        "outputId": "2bf5b75c-d633-42b2-dda3-3aafdc8b4ee8"
      },
      "execution_count": 281,
      "outputs": [
        {
          "output_type": "stream",
          "name": "stdout",
          "text": [
            "Epoch 1 of 100 took 20.504s\n",
            "\t  training loss: 3.738509\n",
            "Epoch 2 of 100 took 12.399s\n",
            "\t  training loss: 3.140505\n",
            "Epoch 3 of 100 took 9.701s\n",
            "\t  training loss: 2.911374\n",
            "Epoch 4 of 100 took 8.753s\n",
            "\t  training loss: 2.749551\n",
            "Epoch 5 of 100 took 8.935s\n",
            "\t  training loss: 2.648823\n",
            "Epoch 6 of 100 took 8.833s\n",
            "\t  training loss: 2.577192\n",
            "Epoch 7 of 100 took 8.804s\n",
            "\t  training loss: 2.520009\n",
            "Epoch 8 of 100 took 8.699s\n",
            "\t  training loss: 2.472799\n",
            "Epoch 9 of 100 took 8.781s\n",
            "\t  training loss: 2.429574\n",
            "Epoch 10 of 100 took 8.752s\n",
            "\t  training loss: 2.394029\n",
            "Epoch 11 of 100 took 10.367s\n",
            "\t  training loss: 2.362360\n",
            "Epoch 12 of 100 took 8.843s\n",
            "\t  training loss: 2.335394\n",
            "Epoch 13 of 100 took 9.539s\n",
            "\t  training loss: 2.311590\n",
            "Epoch 14 of 100 took 8.674s\n",
            "\t  training loss: 2.287963\n",
            "Epoch 15 of 100 took 8.654s\n",
            "\t  training loss: 2.268879\n",
            "Epoch 16 of 100 took 8.637s\n",
            "\t  training loss: 2.246716\n",
            "Epoch 17 of 100 took 8.731s\n",
            "\t  training loss: 2.227460\n",
            "Epoch 18 of 100 took 8.801s\n",
            "\t  training loss: 2.209824\n",
            "Epoch 19 of 100 took 8.734s\n",
            "\t  training loss: 2.192718\n",
            "Epoch 20 of 100 took 8.692s\n",
            "\t  training loss: 2.178232\n",
            "Epoch 21 of 100 took 8.672s\n",
            "\t  training loss: 2.162467\n",
            "Epoch 22 of 100 took 8.649s\n",
            "\t  training loss: 2.147343\n",
            "Epoch 23 of 100 took 8.652s\n",
            "\t  training loss: 2.131705\n",
            "Epoch 24 of 100 took 8.761s\n",
            "\t  training loss: 2.117644\n",
            "Epoch 25 of 100 took 8.785s\n",
            "\t  training loss: 2.103176\n",
            "Epoch 26 of 100 took 8.673s\n",
            "\t  training loss: 2.095575\n",
            "Epoch 27 of 100 took 8.686s\n",
            "\t  training loss: 2.077384\n",
            "Epoch 28 of 100 took 8.704s\n",
            "\t  training loss: 2.064781\n",
            "Epoch 29 of 100 took 8.717s\n",
            "\t  training loss: 2.052807\n",
            "Epoch 30 of 100 took 8.663s\n",
            "\t  training loss: 2.040326\n",
            "Epoch 31 of 100 took 8.641s\n",
            "\t  training loss: 2.029376\n",
            "Epoch 32 of 100 took 8.761s\n",
            "\t  training loss: 2.017950\n",
            "Epoch 33 of 100 took 8.649s\n",
            "\t  training loss: 2.007436\n",
            "Epoch 34 of 100 took 8.671s\n",
            "\t  training loss: 1.996688\n",
            "Epoch 35 of 100 took 8.727s\n",
            "\t  training loss: 1.989480\n",
            "Epoch 36 of 100 took 8.644s\n",
            "\t  training loss: 1.975285\n",
            "Epoch 37 of 100 took 9.620s\n",
            "\t  training loss: 1.964343\n",
            "Epoch 38 of 100 took 8.790s\n",
            "\t  training loss: 1.954842\n",
            "Epoch 39 of 100 took 8.851s\n",
            "\t  training loss: 1.946947\n",
            "Epoch 40 of 100 took 8.636s\n",
            "\t  training loss: 1.935880\n",
            "Epoch 41 of 100 took 8.723s\n",
            "\t  training loss: 1.926046\n",
            "Epoch 42 of 100 took 8.684s\n",
            "\t  training loss: 1.916537\n",
            "Epoch 43 of 100 took 8.566s\n",
            "\t  training loss: 1.906333\n",
            "Epoch 44 of 100 took 8.608s\n",
            "\t  training loss: 1.898641\n",
            "Epoch 45 of 100 took 8.575s\n",
            "\t  training loss: 1.889939\n",
            "Epoch 46 of 100 took 8.697s\n",
            "\t  training loss: 1.880025\n",
            "Epoch 47 of 100 took 8.689s\n",
            "\t  training loss: 1.871560\n",
            "Epoch 48 of 100 took 8.672s\n",
            "\t  training loss: 1.862424\n",
            "Epoch 49 of 100 took 8.685s\n",
            "\t  training loss: 1.853968\n",
            "Epoch 50 of 100 took 8.666s\n",
            "\t  training loss: 1.844587\n",
            "Epoch 51 of 100 took 8.626s\n",
            "\t  training loss: 1.835308\n",
            "Epoch 52 of 100 took 8.603s\n",
            "\t  training loss: 1.826405\n",
            "Epoch 53 of 100 took 8.693s\n",
            "\t  training loss: 1.819092\n",
            "Epoch 54 of 100 took 8.611s\n",
            "\t  training loss: 1.810325\n",
            "Epoch 55 of 100 took 8.907s\n",
            "\t  training loss: 1.800949\n",
            "Epoch 56 of 100 took 8.662s\n",
            "\t  training loss: 1.793053\n",
            "Epoch 57 of 100 took 8.678s\n",
            "\t  training loss: 1.785576\n",
            "Epoch 58 of 100 took 8.610s\n",
            "\t  training loss: 1.777059\n",
            "Epoch 59 of 100 took 8.680s\n",
            "\t  training loss: 1.770044\n",
            "Epoch 60 of 100 took 8.724s\n",
            "\t  training loss: 1.761606\n",
            "Epoch 61 of 100 took 8.689s\n",
            "\t  training loss: 1.751919\n",
            "Epoch 62 of 100 took 8.675s\n",
            "\t  training loss: 1.743958\n",
            "Epoch 63 of 100 took 8.656s\n",
            "\t  training loss: 1.735841\n",
            "Epoch 64 of 100 took 8.671s\n",
            "\t  training loss: 1.728360\n",
            "Epoch 65 of 100 took 8.658s\n",
            "\t  training loss: 1.720472\n",
            "Epoch 66 of 100 took 8.641s\n",
            "\t  training loss: 1.712819\n",
            "Epoch 67 of 100 took 8.793s\n",
            "\t  training loss: 1.705109\n",
            "Epoch 68 of 100 took 8.732s\n",
            "\t  training loss: 1.697641\n",
            "Epoch 69 of 100 took 9.596s\n",
            "\t  training loss: 1.689218\n",
            "Epoch 70 of 100 took 8.634s\n",
            "\t  training loss: 1.681962\n",
            "Epoch 71 of 100 took 8.626s\n",
            "\t  training loss: 1.673504\n",
            "Epoch 72 of 100 took 8.655s\n",
            "\t  training loss: 1.667865\n",
            "Epoch 73 of 100 took 8.759s\n",
            "\t  training loss: 1.660215\n",
            "Epoch 74 of 100 took 10.295s\n",
            "\t  training loss: 1.650656\n",
            "Epoch 75 of 100 took 8.689s\n",
            "\t  training loss: 1.643011\n",
            "Epoch 76 of 100 took 8.667s\n",
            "\t  training loss: 1.634996\n",
            "Epoch 77 of 100 took 8.633s\n",
            "\t  training loss: 1.627765\n",
            "Epoch 78 of 100 took 8.587s\n",
            "\t  training loss: 1.619449\n",
            "Epoch 79 of 100 took 8.649s\n",
            "\t  training loss: 1.612150\n",
            "Epoch 80 of 100 took 8.677s\n",
            "\t  training loss: 1.610958\n",
            "Epoch 81 of 100 took 8.717s\n",
            "\t  training loss: 1.607715\n",
            "Epoch 82 of 100 took 8.680s\n",
            "\t  training loss: 1.594301\n",
            "Epoch 83 of 100 took 8.644s\n",
            "\t  training loss: 1.582876\n",
            "Epoch 84 of 100 took 8.750s\n",
            "\t  training loss: 1.574913\n",
            "Epoch 85 of 100 took 8.743s\n",
            "\t  training loss: 1.568719\n",
            "Epoch 86 of 100 took 8.725s\n",
            "\t  training loss: 1.561299\n",
            "Epoch 87 of 100 took 8.784s\n",
            "\t  training loss: 1.551948\n",
            "Epoch 88 of 100 took 8.711s\n",
            "\t  training loss: 1.543828\n",
            "Epoch 89 of 100 took 8.723s\n",
            "\t  training loss: 1.535481\n",
            "Epoch 90 of 100 took 8.645s\n",
            "\t  training loss: 1.528149\n",
            "Epoch 91 of 100 took 8.672s\n",
            "\t  training loss: 1.520546\n",
            "Epoch 92 of 100 took 8.662s\n",
            "\t  training loss: 1.512348\n",
            "Epoch 93 of 100 took 8.770s\n",
            "\t  training loss: 1.505917\n",
            "Epoch 94 of 100 took 8.876s\n",
            "\t  training loss: 1.496541\n",
            "Epoch 95 of 100 took 8.683s\n",
            "\t  training loss: 1.490395\n",
            "Epoch 96 of 100 took 8.674s\n",
            "\t  training loss: 1.483556\n",
            "Epoch 97 of 100 took 8.676s\n",
            "\t  training loss: 1.473931\n",
            "Epoch 98 of 100 took 8.614s\n",
            "\t  training loss: 1.466979\n",
            "Epoch 99 of 100 took 8.620s\n",
            "\t  training loss: 1.460528\n",
            "Epoch 100 of 100 took 8.865s\n",
            "\t  training loss: 1.450659\n"
          ]
        }
      ]
    },
    {
      "cell_type": "markdown",
      "metadata": {
        "id": "EzIdVPV8YzEE"
      },
      "source": [
        "Plot the loss function of the number of epochs. Does the final loss become better?"
      ]
    },
    {
      "cell_type": "code",
      "execution_count": 282,
      "metadata": {
        "collapsed": true,
        "id": "FWwguQfmYzEE",
        "colab": {
          "base_uri": "https://localhost:8080/",
          "height": 349
        },
        "outputId": "24ead91a-e8a8-464c-997c-bace165fce51"
      },
      "outputs": [
        {
          "output_type": "display_data",
          "data": {
            "text/plain": [
              "<Figure size 1080x360 with 1 Axes>"
            ],
            "image/png": "[encoded data removed]"
          },
          "metadata": {
            "needs_background": "light"
          }
        }
      ],
      "source": [
        "plot_loss(loss)"
      ]
    },
    {
      "cell_type": "markdown",
      "source": [
        "**The final loss is better, but not so significant, may be with tuned lr the difference will be large**"
      ],
      "metadata": {
        "id": "EhY-VU_GhcFT"
      }
    },
    {
      "cell_type": "markdown",
      "metadata": {
        "id": "dp_ZQWH5YzEE"
      },
      "source": [
        "Generate text using the trained net with different `temperature` parameter: `[0.1, 0.2, 0.5, 1.0, 2.0]`.\n",
        "\n",
        "Evaluate the results visually, try to interpret them."
      ]
    },
    {
      "cell_type": "code",
      "execution_count": 291,
      "metadata": {
        "collapsed": true,
        "id": "chUuX5J9YzEE",
        "colab": {
          "base_uri": "https://localhost:8080/"
        },
        "outputId": "f08e1bfe-0d75-45ab-eaa1-6790bfacb1a0"
      },
      "outputs": [
        {
          "output_type": "stream",
          "name": "stdout",
          "text": [
            "####################################################################################################\n",
            "temperature:  0.1\n",
            "если бы я мой\n",
            "во все девой последней того,\n",
            "как он мог онегин поэта,\n",
            "и в самом деревне с ним страна\n",
            "и темное старины простой\n",
            "и стал без молодой в долей.\n",
            "\n",
            "\n",
            "\n",
            "xxxii\n",
            "\n",
            "сей под ней и под венерный,\n",
            "в сем не встречает на свете,\n",
            "и нет на стала не своей.\n",
            "она в семерью веселья стройной\n",
            "старинуться возов дороги,\n",
            "и после наш онегина своей\n",
            "надель и вот просто она\n",
            "свои простой толку волненье,\n",
            "в постелет мой обедала стралось\n",
            "в сем не встречает на свете,\n",
            "и в сердцем полковые мечты,\n",
            "не знала он был поразленный,\n",
            "и \n",
            "####################################################################################################\n",
            "temperature:  0.2\n",
            "если бы я мел\n",
            "\n",
            "\n",
            "\n",
            "xxvii\n",
            "\n",
            "«муж татьяна полно, понять молодной\n",
            "в своей и соседа подруга\n",
            "старушка молодой послед,\n",
            "и страстей и в солнце тогда\n",
            "я был он простой то скука,\n",
            "к мой модных девицы своей души\n",
            "и вольное стали нежной.\n",
            "\n",
            "\n",
            "\n",
            "xiii\n",
            "\n",
            "и страшно гордость верно всех,\n",
            "не отрадитель с ним одна,\n",
            "и в сад нежной так уж сосед\n",
            "с первый слез и друг он всех долгой,\n",
            "и слезы ль\n",
            "####################################################################################################\n",
            "temperature:  0.5\n",
            "если бы я мел\n",
            "от конемин пока стройный\n",
            "в нем должен, не вам два страдах,\n",
            "воспомнил с рожда пора собой,\n",
            "востой дорогой возразнай,\n",
            "и слеза, мечтанья своей\n",
            "и нетернает татьяна:\n",
            "вдруг душа волненный весел,\n",
            "старен привычный полодой\n",
            "в постелет едва затов бесты,\n",
            "и таня в строгах поравленья,\n",
            "и волнец из ней и страстной\n",
            "старушки смерен буду два;\n",
            "он и страстей полукровенье,\n",
            "и в нем одевался онегин.\n",
            "\n",
            "\n",
            "\n",
            "xxiii\n",
            "\n",
            "ко гом по нему подева строй,\n",
            "свои пред семей петремена,\n",
            "в окну покорых лет и при\n",
            "####################################################################################################\n",
            "temperature:  1.0\n",
            "если бы я мог\n",
            "и чем же твоей девирого\n",
            "####################################################################################################\n",
            "temperature:  2.0\n",
            "если бы я м9»\n",
            "\n",
            "знай! что: всрею вь яг: гого, були?,;\n",
            "xl ину, ззовся,\n"
          ]
        }
      ],
      "source": [
        "# Text generation with different temperature values here\n",
        "temperatures = [0.1, 0.2, 0.5, 1.0, 2.0]\n",
        "for temperature in temperatures:\n",
        "    print('#'*100)\n",
        "    print('temperature: ', temperature)\n",
        "    print(generate_text(model, seed_phrase='если бы я м', max_length=500, temperature=temperature, is_lstm=True))"
      ]
    },
    {
      "cell_type": "markdown",
      "source": [
        "**Looks like temperatures < 0.5 provide better results, than >= 0.5. Apparently, this is because some letters have high prior probability. So, lower temperature decrease impact of prior probability**"
      ],
      "metadata": {
        "id": "C_WP5f3_jQGU"
      }
    },
    {
      "cell_type": "markdown",
      "metadata": {
        "id": "IKEXTcbUYzEF"
      },
      "source": [
        "### Saving and loading models"
      ]
    },
    {
      "cell_type": "markdown",
      "metadata": {
        "id": "X7DM9kENYzEF"
      },
      "source": [
        "Save the model to the disk, then load it and generate text. Examples are available [here](https://pytorch.org/tutorials/beginner/saving_loading_models.html])."
      ]
    },
    {
      "cell_type": "code",
      "execution_count": 287,
      "metadata": {
        "collapsed": true,
        "id": "SCgTNnk7YzEF"
      },
      "outputs": [],
      "source": [
        "torch.save(model.state_dict(), 'model')"
      ]
    },
    {
      "cell_type": "code",
      "source": [
        "model_loaded = LSTM()\n",
        "model_loaded.load_state_dict(torch.load('model'))"
      ],
      "metadata": {
        "colab": {
          "base_uri": "https://localhost:8080/"
        },
        "id": "ea80P75XkRzk",
        "outputId": "26b97183-804e-40c3-e195-d9475d35fffa"
      },
      "execution_count": 288,
      "outputs": [
        {
          "output_type": "execute_result",
          "data": {
            "text/plain": [
              "<All keys matched successfully>"
            ]
          },
          "metadata": {},
          "execution_count": 288
        }
      ]
    },
    {
      "cell_type": "code",
      "source": [
        "print(generate_text(model_loaded, seed_phrase='хочу отдохн', max_length=500, temperature=0.2, is_lstm=True))"
      ],
      "metadata": {
        "colab": {
          "base_uri": "https://localhost:8080/"
        },
        "id": "YJfnt81bkmom",
        "outputId": "612a7b34-0460-40af-ca02-f411f87f3de7"
      },
      "execution_count": 295,
      "outputs": [
        {
          "output_type": "stream",
          "name": "stdout",
          "text": [
            "хочу отдохной\n",
            "он из волной сон возрастой\n",
            "в душа в семеньем молодой,\n",
            "и слезы ль\n"
          ]
        }
      ]
    },
    {
      "cell_type": "markdown",
      "metadata": {
        "id": "d2BokPKmYzEF"
      },
      "source": [
        "### References\n",
        "1. <a href='http://karpathy.github.io/2015/05/21/rnn-effectiveness/'> Andrew Karpathy blog post about RNN. </a> \n",
        "There are several examples of genration: Shakespeare texts, Latex formulas, Linux Sourse Code and children names.\n",
        "2. <a href='https://github.com/karpathy/char-rnn'> Repo with char-rnn code </a>\n",
        "3. Cool repo with PyTorch examples: [link](https://github.com/spro/practical-pytorch`)"
      ]
    }
  ],
  "metadata": {
    "anaconda-cloud": {},
    "kernelspec": {
      "display_name": "Python 3 (ipykernel)",
      "language": "python",
      "name": "python3"
    },
    "language_info": {
      "codemirror_mode": {
        "name": "ipython",
        "version": 3
      },
      "file_extension": ".py",
      "mimetype": "text/x-python",
      "name": "python",
      "nbconvert_exporter": "python",
      "pygments_lexer": "ipython3",
      "version": "3.9.7"
    },
    "colab": {
      "provenance": []
    }
  },
  "nbformat": 4,
  "nbformat_minor": 0
}