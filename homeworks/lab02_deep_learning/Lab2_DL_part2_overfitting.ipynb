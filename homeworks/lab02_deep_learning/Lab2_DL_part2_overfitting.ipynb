{
 "cells": [
  {
   "cell_type": "markdown",
   "metadata": {
    "id": "NFmOh482SyEF"
   },
   "source": [
    "## Lab 2\n",
    "### Part 2: Dealing with overfitting"
   ]
  },
  {
   "cell_type": "markdown",
   "metadata": {
    "id": "AjzAuO3oSvsI"
   },
   "source": [
    "Today we work with [Fashion-MNIST dataset](https://github.com/zalandoresearch/fashion-mnist) (*hint: it is available in `torchvision`*).\n",
    "\n",
    "Your goal for today:\n",
    "1. Train a FC (fully-connected) network that achieves >= 0.885 test accuracy.\n",
    "2. Cause considerable overfitting by modifying the network (e.g. increasing the number of network parameters and/or layers) and demonstrate in in the appropriate way (e.g. plot loss and accurasy on train and validation set w.r.t. network complexity).\n",
    "3. Try to deal with overfitting (at least partially) by using regularization techniques (Dropout/Batchnorm/...) and demonstrate the results.\n",
    "\n",
    "__Please, write a small report describing your ideas, tries and achieved results in the end of this file.__\n",
    "\n",
    "*Note*: Tasks 2 and 3 are interrelated, in task 3 your goal is to make the network from task 2 less prone to overfitting. Task 1 is independent from 2 and 3.\n",
    "\n",
    "*Note 2*: We recomment to use Google Colab or other machine with GPU acceleration."
   ]
  },
  {
   "cell_type": "code",
   "execution_count": 52,
   "metadata": {
    "id": "_KBld6VOSwhW"
   },
   "outputs": [],
   "source": [
    "import torch\n",
    "import torch.nn as nn\n",
    "import torchvision\n",
    "import torchvision.transforms as transforms\n",
    "import torchsummary\n",
    "from IPython.display import clear_output\n",
    "from matplotlib import pyplot as plt\n",
    "from matplotlib.pyplot import figure\n",
    "import numpy as np\n",
    "import os\n",
    "import time\n",
    "\n",
    "\n",
    "device = 'cuda:0' if torch.cuda.is_available() else 'cpu'"
   ]
  },
  {
   "cell_type": "code",
   "execution_count": 53,
   "metadata": {
    "colab": {
     "base_uri": "https://localhost:8080/"
    },
    "id": "EdLOG0XqS_g5",
    "outputId": "5eea1d05-4539-456a-9144-09dfa869a631"
   },
   "outputs": [
    {
     "name": "stdout",
     "output_type": "stream",
     "text": [
      "Directory fmnist already exists!\n"
     ]
    }
   ],
   "source": [
    "# Technical function\n",
    "def mkdir(path):\n",
    "    if not os.path.exists(root_path):\n",
    "        os.mkdir(root_path)\n",
    "        print('Directory', path, 'is created!')\n",
    "    else:\n",
    "        print('Directory', path, 'already exists!')\n",
    "        \n",
    "root_path = 'fmnist'\n",
    "mkdir(root_path)\n",
    "\n",
    "\n",
    "def train_model(model, train_loader, val_loader, loss_fn, opt, n_epochs: int):\n",
    "    train_loss = []\n",
    "    val_loss = []\n",
    "    val_accuracy = []\n",
    "    \n",
    "    for epoch in range(n_epochs):\n",
    "        ep_train_loss = []\n",
    "        ep_val_loss = []\n",
    "        ep_val_accuracy = []\n",
    "        start_time = time.time()\n",
    "\n",
    "        model.train() # enable dropout / batch_norm training behavior\n",
    "        for X_batch, y_batch in train_loader:\n",
    "            # move data to target device\n",
    "            X_batch, y_batch = X_batch.to(device), y_batch.to(device)\n",
    "            # train on batch: compute loss, calc grads, perform optimizer step and zero the grads\n",
    "            y_pred = model.forward(X_batch)\n",
    "            loss = loss_fn(y_pred, y_batch)\n",
    "            loss.backward()\n",
    "            opt.step()\n",
    "            opt.zero_grad()\n",
    "            ep_train_loss.append(loss.item())\n",
    "\n",
    "        model.eval() # disable dropout / use averages for batch_norm\n",
    "        with torch.no_grad():\n",
    "            for X_batch, y_batch in val_loader:\n",
    "                # move data to target device\n",
    "                X_batch, y_batch = X_batch.to(device), y_batch.to(device)\n",
    "                # compute predictions\n",
    "                y_pred = model.forward(X_batch)\n",
    "                loss = loss_fn(y_pred, y_batch)\n",
    "                ep_val_loss.append(loss.item())\n",
    "                y_pred = y_pred.max(dim=1)[1]\n",
    "                ep_val_accuracy.append((y_pred == y_batch).cpu().detach().numpy().mean())\n",
    "\n",
    "        # print the results for this epoch:\n",
    "        print(f'Epoch {epoch + 1} of {n_epochs} took {time.time() - start_time:.3f}s')\n",
    "\n",
    "        train_loss.append(np.mean(ep_train_loss))\n",
    "        val_loss.append(np.mean(ep_val_loss))\n",
    "        val_accuracy.append(np.mean(ep_val_accuracy))\n",
    "        \n",
    "        print(f\"\\t  training loss: {train_loss[-1]:.6f}\")\n",
    "        print(f\"\\tvalidation loss: {val_loss[-1]:.6f}\")\n",
    "        print(f\"\\tvalidation accuracy: {val_accuracy[-1]:.3f}\")\n",
    "\n",
    "    return train_loss, val_loss, val_accuracy\n",
    "\n",
    "\n",
    "def plot_train_process(train_loss, val_loss, val_accuracy):\n",
    "    fig, axes = plt.subplots(1, 2, figsize=(15, 5))\n",
    "\n",
    "    axes[0].set_title('Loss')\n",
    "    axes[0].plot(train_loss, label='train')\n",
    "    axes[0].plot(val_loss, label='validation')\n",
    "    axes[0].legend()\n",
    "\n",
    "    axes[1].set_title('Validation accuracy')\n",
    "    axes[1].plot(val_accuracy)"
   ]
  },
  {
   "cell_type": "code",
   "execution_count": 4,
   "metadata": {
    "colab": {
     "base_uri": "https://localhost:8080/",
     "height": 408,
     "referenced_widgets": [
      "0e23ba3db7ec4e5a89892f4008261dcb",
      "fd2b1564374b4b23b3f5b3c469e7f857",
      "811866dadecb4975bc9bb596e6a98e84",
      "ae60d47a11dd4c3ba65c6495b840277c",
      "b3c424ad6d294732a1741274a45e87c7",
      "47f0d80ac0e24cafb2848ea850b80110",
      "b59caa906ad84805b87ec8eb21dc30ba",
      "3e1f7da3b9ed4360bb8ab6f8e1e5920f",
      "ff126d5fe5e24cd6a8c350584e30af41",
      "a2c40e91ff5a47e28b7c794b2c12c8d6",
      "0946e62b1c724c70aeb1ff4c38337c90",
      "1afe793899be4d6197c52836da12e478",
      "39b8ab44ff5749fea75d2073dd587a21",
      "a9083433b8e647828931ad13f8180457",
      "7ea4d9da54eb478f971d76b2974b45d0",
      "e338bd95a22d4583b79aefec9812f5fd",
      "aa21856b6b6245f2811b83fdbd28474d",
      "15ff5f6a927243b183adad199691a81b",
      "a5958603b98b4edaaf7205ad2a3fcb0f",
      "200383be1ec14621ad0d595f29be76c4",
      "c90794d4250f4a03872cc8d963568dc5",
      "31c753ace7774b059b6b4e908c387be0",
      "2674039285d54544817b0ce04b113886",
      "76fc9f4651d542859099b59ddb55f608",
      "7ec5a0126de94b0988ce27958117d6f7",
      "01811d00bd7545118507a4770fdf870c",
      "ec6e889298524a35b638eff9e43dca4c",
      "5268f79e3c8c48cb870a5fdf8a2ff12e",
      "297dbbb565cc42a2ad0085f9b3436b4d",
      "622f4fa1490d49e1b899f4864bcc9576",
      "d3fcfa3f23754ad5bac15a1664a335fc",
      "a367a716603b472a9eaec1bef32eba97",
      "c1e14ffc73a34706828821dd37000f83",
      "ae7187a466294b40bf913a18ae2569ac",
      "ce2c6c91a6694856ad7b0cacb7dbb348",
      "6dbc70f031dd46f1aa8162b1f9578626",
      "ca2cb76f0dde48c08225d5116eba1282",
      "fbcd64b9a9234c61aef6cffa966dedcd",
      "5056960a5b74450781f1971a7fdc47f4",
      "1fba5ebef9164f18b123e05ee1fe63e9",
      "02fa8862bcf14b10ac521090fe995114",
      "8eae1c680eef40ed9368095683dc64e4",
      "8570d96ddfe2432facafbd1db18c07af",
      "2018c138b620474db1f4d5fac80598b9"
     ]
    },
    "id": "qt6LE7XaTDT9",
    "outputId": "2c9652d9-6aac-487c-cd57-5ec28fb4f647"
   },
   "outputs": [
    {
     "name": "stdout",
     "output_type": "stream",
     "text": [
      "Downloading http://fashion-mnist.s3-website.eu-central-1.amazonaws.com/train-images-idx3-ubyte.gz\n",
      "Downloading http://fashion-mnist.s3-website.eu-central-1.amazonaws.com/train-images-idx3-ubyte.gz to fmnist/FashionMNIST/raw/train-images-idx3-ubyte.gz\n"
     ]
    },
    {
     "data": {
      "application/vnd.jupyter.widget-view+json": {
       "model_id": "0e23ba3db7ec4e5a89892f4008261dcb",
       "version_major": 2,
       "version_minor": 0
      },
      "text/plain": [
       "  0%|          | 0/26421880 [00:00<?, ?it/s]"
      ]
     },
     "metadata": {},
     "output_type": "display_data"
    },
    {
     "name": "stdout",
     "output_type": "stream",
     "text": [
      "Extracting fmnist/FashionMNIST/raw/train-images-idx3-ubyte.gz to fmnist/FashionMNIST/raw\n",
      "\n",
      "Downloading http://fashion-mnist.s3-website.eu-central-1.amazonaws.com/train-labels-idx1-ubyte.gz\n",
      "Downloading http://fashion-mnist.s3-website.eu-central-1.amazonaws.com/train-labels-idx1-ubyte.gz to fmnist/FashionMNIST/raw/train-labels-idx1-ubyte.gz\n"
     ]
    },
    {
     "data": {
      "application/vnd.jupyter.widget-view+json": {
       "model_id": "1afe793899be4d6197c52836da12e478",
       "version_major": 2,
       "version_minor": 0
      },
      "text/plain": [
       "  0%|          | 0/29515 [00:00<?, ?it/s]"
      ]
     },
     "metadata": {},
     "output_type": "display_data"
    },
    {
     "name": "stdout",
     "output_type": "stream",
     "text": [
      "Extracting fmnist/FashionMNIST/raw/train-labels-idx1-ubyte.gz to fmnist/FashionMNIST/raw\n",
      "\n",
      "Downloading http://fashion-mnist.s3-website.eu-central-1.amazonaws.com/t10k-images-idx3-ubyte.gz\n",
      "Downloading http://fashion-mnist.s3-website.eu-central-1.amazonaws.com/t10k-images-idx3-ubyte.gz to fmnist/FashionMNIST/raw/t10k-images-idx3-ubyte.gz\n"
     ]
    },
    {
     "data": {
      "application/vnd.jupyter.widget-view+json": {
       "model_id": "2674039285d54544817b0ce04b113886",
       "version_major": 2,
       "version_minor": 0
      },
      "text/plain": [
       "  0%|          | 0/4422102 [00:00<?, ?it/s]"
      ]
     },
     "metadata": {},
     "output_type": "display_data"
    },
    {
     "name": "stdout",
     "output_type": "stream",
     "text": [
      "Extracting fmnist/FashionMNIST/raw/t10k-images-idx3-ubyte.gz to fmnist/FashionMNIST/raw\n",
      "\n",
      "Downloading http://fashion-mnist.s3-website.eu-central-1.amazonaws.com/t10k-labels-idx1-ubyte.gz\n",
      "Downloading http://fashion-mnist.s3-website.eu-central-1.amazonaws.com/t10k-labels-idx1-ubyte.gz to fmnist/FashionMNIST/raw/t10k-labels-idx1-ubyte.gz\n"
     ]
    },
    {
     "data": {
      "application/vnd.jupyter.widget-view+json": {
       "model_id": "ae7187a466294b40bf913a18ae2569ac",
       "version_major": 2,
       "version_minor": 0
      },
      "text/plain": [
       "  0%|          | 0/5148 [00:00<?, ?it/s]"
      ]
     },
     "metadata": {},
     "output_type": "display_data"
    },
    {
     "name": "stdout",
     "output_type": "stream",
     "text": [
      "Extracting fmnist/FashionMNIST/raw/t10k-labels-idx1-ubyte.gz to fmnist/FashionMNIST/raw\n",
      "\n"
     ]
    }
   ],
   "source": [
    "download = True\n",
    "train_transform = transforms.ToTensor()\n",
    "test_transform = transforms.ToTensor()\n",
    "transforms.Compose((transforms.ToTensor()))\n",
    "\n",
    "\n",
    "fmnist_dataset_train = torchvision.datasets.FashionMNIST(root_path, \n",
    "                                                        train=True, \n",
    "                                                        transform=train_transform,\n",
    "                                                        target_transform=None,\n",
    "                                                        download=download)\n",
    "fmnist_dataset_test = torchvision.datasets.FashionMNIST(root_path, \n",
    "                                                       train=False, \n",
    "                                                       transform=test_transform,\n",
    "                                                       target_transform=None,\n",
    "                                                       download=download)"
   ]
  },
  {
   "cell_type": "code",
   "execution_count": 24,
   "metadata": {
    "id": "71YP0SPwTIxD"
   },
   "outputs": [],
   "source": [
    "train_loader = torch.utils.data.DataLoader(fmnist_dataset_train, \n",
    "                                           batch_size=128,\n",
    "                                           shuffle=True,\n",
    "                                           num_workers=2)\n",
    "test_loader = torch.utils.data.DataLoader(fmnist_dataset_test,\n",
    "                                          batch_size=256,\n",
    "                                          shuffle=False,\n",
    "                                          num_workers=2)"
   ]
  },
  {
   "cell_type": "code",
   "execution_count": 25,
   "metadata": {
    "colab": {
     "base_uri": "https://localhost:8080/"
    },
    "id": "v_YFmF7NTWrQ",
    "outputId": "12d0e11d-4e02-4365-fb0e-17db1a105884"
   },
   "outputs": [
    {
     "data": {
      "text/plain": [
       "10000"
      ]
     },
     "execution_count": 25,
     "metadata": {},
     "output_type": "execute_result"
    }
   ],
   "source": [
    "len(fmnist_dataset_test)"
   ]
  },
  {
   "cell_type": "code",
   "execution_count": 26,
   "metadata": {
    "colab": {
     "base_uri": "https://localhost:8080/"
    },
    "id": "aHca15bOTY4B",
    "outputId": "7da919ce-e0eb-46f1-84ee-b9eb862f277f"
   },
   "outputs": [
    {
     "name": "stdout",
     "output_type": "stream",
     "text": [
      "torch.Size([128, 1, 28, 28])\n",
      "torch.Size([128])\n",
      "128\n"
     ]
    }
   ],
   "source": [
    "for img, label in train_loader:\n",
    "    print(img.shape)\n",
    "#     print(img)\n",
    "    print(label.shape)\n",
    "    print(label.size(0))\n",
    "    break"
   ]
  },
  {
   "cell_type": "markdown",
   "metadata": {
    "id": "b6OOOffHTfX5"
   },
   "source": [
    "### Task 1\n",
    "Train a network that achieves $\\geq 0.885$ test accuracy. It's fine to use only Linear (`nn.Linear`) layers and activations/dropout/batchnorm. Convolutional layers might be a great use, but we will meet them a bit later."
   ]
  },
  {
   "cell_type": "code",
   "execution_count": 71,
   "metadata": {
    "id": "ftpkTjxlTcFx"
   },
   "outputs": [],
   "source": [
    "class TinyNeuralNetwork(nn.Module):\n",
    "    def __init__(self, input_shape=28*28, num_classes=10, input_channels=1):\n",
    "        super(self.__class__, self).__init__()\n",
    "        self.model = nn.Sequential(\n",
    "            nn.Flatten(), # This layer converts image into a vector to use Linear layers afterwards\n",
    "            # Your network structure comes here\n",
    "            nn.Linear(input_shape, 128),\n",
    "            nn.BatchNorm1d(128),\n",
    "            nn.ReLU(),\n",
    "            nn.Dropout(0.5),\n",
    "            nn.Linear(128, 32),\n",
    "            nn.BatchNorm1d(32),\n",
    "            nn.ReLU(),\n",
    "            nn.Linear(32, num_classes),\n",
    "        )\n",
    "        \n",
    "    def forward(self, inp):       \n",
    "        out = self.model(inp)\n",
    "        return out"
   ]
  },
  {
   "cell_type": "code",
   "execution_count": 72,
   "metadata": {
    "colab": {
     "base_uri": "https://localhost:8080/"
    },
    "id": "BBxpQqcTouo0",
    "outputId": "402f7dfe-9700-460e-97e0-9da0d8fefc42"
   },
   "outputs": [
    {
     "name": "stdout",
     "output_type": "stream",
     "text": [
      "----------------------------------------------------------------\n",
      "        Layer (type)               Output Shape         Param #\n",
      "================================================================\n",
      "           Flatten-1                  [-1, 784]               0\n",
      "            Linear-2                  [-1, 128]         100,480\n",
      "       BatchNorm1d-3                  [-1, 128]             256\n",
      "              ReLU-4                  [-1, 128]               0\n",
      "           Dropout-5                  [-1, 128]               0\n",
      "            Linear-6                   [-1, 32]           4,128\n",
      "       BatchNorm1d-7                   [-1, 32]              64\n",
      "              ReLU-8                   [-1, 32]               0\n",
      "            Linear-9                   [-1, 10]             330\n",
      "================================================================\n",
      "Total params: 105,258\n",
      "Trainable params: 105,258\n",
      "Non-trainable params: 0\n",
      "----------------------------------------------------------------\n",
      "Input size (MB): 0.00\n",
      "Forward/backward pass size (MB): 0.01\n",
      "Params size (MB): 0.40\n",
      "Estimated Total Size (MB): 0.42\n",
      "----------------------------------------------------------------\n"
     ]
    }
   ],
   "source": [
    "torchsummary.summary(TinyNeuralNetwork().to(device), (28*28,))"
   ]
  },
  {
   "cell_type": "markdown",
   "metadata": {
    "id": "544PGKEnjPr5"
   },
   "source": [
    "Your experiments come here:"
   ]
  },
  {
   "cell_type": "code",
   "execution_count": 73,
   "metadata": {
    "id": "i3POFj90Ti-6"
   },
   "outputs": [],
   "source": [
    "model = TinyNeuralNetwork().to(device)\n",
    "opt = torch.optim.Adam(model.parameters(), lr=1e-3)\n",
    "loss_func = nn.CrossEntropyLoss()\n",
    "\n",
    "# Your experiments, training and validation loops here"
   ]
  },
  {
   "cell_type": "code",
   "execution_count": 74,
   "metadata": {
    "colab": {
     "base_uri": "https://localhost:8080/"
    },
    "id": "EeH7mCBPyESV",
    "outputId": "5b6ddb77-9077-44c0-bba8-75c11c814b1e"
   },
   "outputs": [
    {
     "name": "stdout",
     "output_type": "stream",
     "text": [
      "Epoch 1 of 30 took 7.849s\n",
      "\t  training loss: 0.733907\n",
      "\tvalidation loss: 0.448816\n",
      "\tvalidation accuracy: 0.843\n",
      "Epoch 2 of 30 took 8.364s\n",
      "\t  training loss: 0.451755\n",
      "\tvalidation loss: 0.407391\n",
      "\tvalidation accuracy: 0.851\n",
      "Epoch 3 of 30 took 7.665s\n",
      "\t  training loss: 0.412330\n",
      "\tvalidation loss: 0.366279\n",
      "\tvalidation accuracy: 0.867\n",
      "Epoch 4 of 30 took 7.713s\n",
      "\t  training loss: 0.392726\n",
      "\tvalidation loss: 0.366012\n",
      "\tvalidation accuracy: 0.868\n",
      "Epoch 5 of 30 took 8.107s\n",
      "\t  training loss: 0.373182\n",
      "\tvalidation loss: 0.356776\n",
      "\tvalidation accuracy: 0.870\n",
      "Epoch 6 of 30 took 7.692s\n",
      "\t  training loss: 0.362581\n",
      "\tvalidation loss: 0.362455\n",
      "\tvalidation accuracy: 0.867\n",
      "Epoch 7 of 30 took 7.647s\n",
      "\t  training loss: 0.355399\n",
      "\tvalidation loss: 0.336233\n",
      "\tvalidation accuracy: 0.879\n",
      "Epoch 8 of 30 took 7.669s\n",
      "\t  training loss: 0.346220\n",
      "\tvalidation loss: 0.336716\n",
      "\tvalidation accuracy: 0.880\n",
      "Epoch 9 of 30 took 7.586s\n",
      "\t  training loss: 0.335053\n",
      "\tvalidation loss: 0.334185\n",
      "\tvalidation accuracy: 0.877\n",
      "Epoch 10 of 30 took 7.689s\n",
      "\t  training loss: 0.331198\n",
      "\tvalidation loss: 0.340251\n",
      "\tvalidation accuracy: 0.876\n",
      "Epoch 11 of 30 took 7.710s\n",
      "\t  training loss: 0.323721\n",
      "\tvalidation loss: 0.329086\n",
      "\tvalidation accuracy: 0.879\n",
      "Epoch 12 of 30 took 7.551s\n",
      "\t  training loss: 0.318980\n",
      "\tvalidation loss: 0.330965\n",
      "\tvalidation accuracy: 0.879\n",
      "Epoch 13 of 30 took 7.616s\n",
      "\t  training loss: 0.316647\n",
      "\tvalidation loss: 0.327307\n",
      "\tvalidation accuracy: 0.881\n",
      "Epoch 14 of 30 took 7.618s\n",
      "\t  training loss: 0.312295\n",
      "\tvalidation loss: 0.323069\n",
      "\tvalidation accuracy: 0.880\n",
      "Epoch 15 of 30 took 7.635s\n",
      "\t  training loss: 0.308408\n",
      "\tvalidation loss: 0.322459\n",
      "\tvalidation accuracy: 0.884\n",
      "Epoch 16 of 30 took 7.653s\n",
      "\t  training loss: 0.300971\n",
      "\tvalidation loss: 0.336603\n",
      "\tvalidation accuracy: 0.881\n",
      "Epoch 17 of 30 took 7.605s\n",
      "\t  training loss: 0.298181\n",
      "\tvalidation loss: 0.328881\n",
      "\tvalidation accuracy: 0.881\n",
      "Epoch 18 of 30 took 7.651s\n",
      "\t  training loss: 0.296893\n",
      "\tvalidation loss: 0.309475\n",
      "\tvalidation accuracy: 0.891\n",
      "Epoch 19 of 30 took 7.517s\n",
      "\t  training loss: 0.290575\n",
      "\tvalidation loss: 0.316244\n",
      "\tvalidation accuracy: 0.886\n",
      "Epoch 20 of 30 took 7.654s\n",
      "\t  training loss: 0.289259\n",
      "\tvalidation loss: 0.323153\n",
      "\tvalidation accuracy: 0.882\n",
      "Epoch 21 of 30 took 7.600s\n",
      "\t  training loss: 0.288226\n",
      "\tvalidation loss: 0.311777\n",
      "\tvalidation accuracy: 0.889\n",
      "Epoch 22 of 30 took 7.638s\n",
      "\t  training loss: 0.283215\n",
      "\tvalidation loss: 0.317523\n",
      "\tvalidation accuracy: 0.885\n",
      "Epoch 23 of 30 took 7.585s\n",
      "\t  training loss: 0.284136\n",
      "\tvalidation loss: 0.306635\n",
      "\tvalidation accuracy: 0.891\n",
      "Epoch 24 of 30 took 7.677s\n",
      "\t  training loss: 0.276292\n",
      "\tvalidation loss: 0.310139\n",
      "\tvalidation accuracy: 0.891\n",
      "Epoch 25 of 30 took 7.617s\n",
      "\t  training loss: 0.275936\n",
      "\tvalidation loss: 0.313312\n",
      "\tvalidation accuracy: 0.890\n",
      "Epoch 26 of 30 took 7.607s\n",
      "\t  training loss: 0.273149\n",
      "\tvalidation loss: 0.306595\n",
      "\tvalidation accuracy: 0.890\n",
      "Epoch 27 of 30 took 7.597s\n",
      "\t  training loss: 0.269994\n",
      "\tvalidation loss: 0.316326\n",
      "\tvalidation accuracy: 0.889\n",
      "Epoch 28 of 30 took 7.517s\n",
      "\t  training loss: 0.270792\n",
      "\tvalidation loss: 0.306021\n",
      "\tvalidation accuracy: 0.894\n",
      "Epoch 29 of 30 took 7.731s\n",
      "\t  training loss: 0.267833\n",
      "\tvalidation loss: 0.312952\n",
      "\tvalidation accuracy: 0.893\n",
      "Epoch 30 of 30 took 7.867s\n",
      "\t  training loss: 0.266557\n",
      "\tvalidation loss: 0.316072\n",
      "\tvalidation accuracy: 0.890\n"
     ]
    }
   ],
   "source": [
    "n_epochs = 30\n",
    "\n",
    "train_loss, val_loss, val_accuracy = train_model(model, train_loader, test_loader, loss_func, opt, n_epochs)"
   ]
  },
  {
   "cell_type": "code",
   "execution_count": 75,
   "metadata": {
    "colab": {
     "base_uri": "https://localhost:8080/",
     "height": 335
    },
    "id": "dvbc-aeCyKgH",
    "outputId": "9c90e3ad-1edd-4f06-ffd8-194261186543"
   },
   "outputs": [
    {
     "data": {
      "image/png": "[encoded data removed]",
      "text/plain": [
       "<Figure size 1080x360 with 2 Axes>"
      ]
     },
     "metadata": {
      "needs_background": "light"
     },
     "output_type": "display_data"
    }
   ],
   "source": [
    "plot_train_process(train_loss, val_loss, val_accuracy)"
   ]
  },
  {
   "cell_type": "markdown",
   "metadata": {
    "id": "L7ISqkjmCPB1"
   },
   "source": [
    "### Task 2: Overfit it.\n",
    "Build a network that will overfit to this dataset. Demonstrate the overfitting in the appropriate way (e.g. plot loss and accurasy on train and test set w.r.t. network complexity).\n",
    "\n",
    "*Note:* you also might decrease the size of `train` dataset to enforce the overfitting and speed up the computations."
   ]
  },
  {
   "cell_type": "code",
   "execution_count": 111,
   "metadata": {
    "id": "H12uAWiGBwJx"
   },
   "outputs": [],
   "source": [
    "class OverfittingNeuralNetwork(nn.Module):\n",
    "    def __init__(self, input_shape=28*28, num_classes=10, input_channels=1):\n",
    "        super(self.__class__, self).__init__()\n",
    "        self.model = nn.Sequential(\n",
    "            nn.Flatten(), # This layer converts image into a vector to use Linear layers afterwards\n",
    "            # Your network structure comes here\n",
    "            nn.Linear(input_shape, 8192),\n",
    "            nn.ReLU(),\n",
    "            nn.Linear(8192, 8192),\n",
    "            nn.ReLU(),\n",
    "            nn.Linear(8192, 4096),\n",
    "            nn.ReLU(),\n",
    "            nn.Linear(4096, 4096),\n",
    "            nn.ReLU(),\n",
    "            nn.Linear(4096, 2048),\n",
    "            nn.ReLU(),\n",
    "            nn.Linear(2048, num_classes)\n",
    "        )\n",
    "        \n",
    "    def forward(self, inp):       \n",
    "        out = self.model(inp)\n",
    "        return out"
   ]
  },
  {
   "cell_type": "code",
   "execution_count": 112,
   "metadata": {
    "colab": {
     "base_uri": "https://localhost:8080/"
    },
    "id": "JgXAKCpvCwqH",
    "outputId": "0c4c5eb0-215f-4219-9fa8-df10a75c22e2"
   },
   "outputs": [
    {
     "name": "stdout",
     "output_type": "stream",
     "text": [
      "----------------------------------------------------------------\n",
      "        Layer (type)               Output Shape         Param #\n",
      "================================================================\n",
      "           Flatten-1                  [-1, 784]               0\n",
      "            Linear-2                 [-1, 8192]       6,430,720\n",
      "              ReLU-3                 [-1, 8192]               0\n",
      "            Linear-4                 [-1, 8192]      67,117,056\n",
      "              ReLU-5                 [-1, 8192]               0\n",
      "            Linear-6                 [-1, 4096]      33,558,528\n",
      "              ReLU-7                 [-1, 4096]               0\n",
      "            Linear-8                 [-1, 4096]      16,781,312\n",
      "              ReLU-9                 [-1, 4096]               0\n",
      "           Linear-10                 [-1, 2048]       8,390,656\n",
      "             ReLU-11                 [-1, 2048]               0\n",
      "           Linear-12                   [-1, 10]          20,490\n",
      "================================================================\n",
      "Total params: 132,298,762\n",
      "Trainable params: 132,298,762\n",
      "Non-trainable params: 0\n",
      "----------------------------------------------------------------\n",
      "Input size (MB): 0.00\n",
      "Forward/backward pass size (MB): 0.41\n",
      "Params size (MB): 504.68\n",
      "Estimated Total Size (MB): 505.10\n",
      "----------------------------------------------------------------\n"
     ]
    }
   ],
   "source": [
    "torchsummary.summary(OverfittingNeuralNetwork().to(device), (28*28,))"
   ]
  },
  {
   "cell_type": "code",
   "execution_count": 113,
   "metadata": {
    "id": "gYt9pun8ouo1"
   },
   "outputs": [],
   "source": [
    "model = OverfittingNeuralNetwork().to(device)\n",
    "opt = torch.optim.Adam(model.parameters(), lr=1e-3)\n",
    "loss_func = nn.CrossEntropyLoss()\n",
    "\n",
    "# Your experiments, come here"
   ]
  },
  {
   "cell_type": "code",
   "execution_count": 114,
   "metadata": {
    "colab": {
     "base_uri": "https://localhost:8080/"
    },
    "id": "o0fnayYI8Ydx",
    "outputId": "ed86487b-f12a-4d8b-e3fd-ae1dba2238be"
   },
   "outputs": [
    {
     "name": "stdout",
     "output_type": "stream",
     "text": [
      "Epoch 1 of 30 took 36.664s\n",
      "\t  training loss: 0.628532\n",
      "\tvalidation loss: 0.483644\n",
      "\tvalidation accuracy: 0.833\n",
      "Epoch 2 of 30 took 35.778s\n",
      "\t  training loss: 0.400437\n",
      "\tvalidation loss: 0.391293\n",
      "\tvalidation accuracy: 0.865\n",
      "Epoch 3 of 30 took 35.669s\n",
      "\t  training loss: 0.353608\n",
      "\tvalidation loss: 0.393631\n",
      "\tvalidation accuracy: 0.864\n",
      "Epoch 4 of 30 took 35.548s\n",
      "\t  training loss: 0.331587\n",
      "\tvalidation loss: 0.370806\n",
      "\tvalidation accuracy: 0.861\n",
      "Epoch 5 of 30 took 35.473s\n",
      "\t  training loss: 0.307972\n",
      "\tvalidation loss: 0.373105\n",
      "\tvalidation accuracy: 0.870\n",
      "Epoch 6 of 30 took 35.527s\n",
      "\t  training loss: 0.290673\n",
      "\tvalidation loss: 0.338328\n",
      "\tvalidation accuracy: 0.881\n",
      "Epoch 7 of 30 took 35.504s\n",
      "\t  training loss: 0.277725\n",
      "\tvalidation loss: 0.338135\n",
      "\tvalidation accuracy: 0.880\n",
      "Epoch 8 of 30 took 35.643s\n",
      "\t  training loss: 0.266779\n",
      "\tvalidation loss: 0.359890\n",
      "\tvalidation accuracy: 0.874\n",
      "Epoch 9 of 30 took 35.533s\n",
      "\t  training loss: 0.258063\n",
      "\tvalidation loss: 0.343745\n",
      "\tvalidation accuracy: 0.888\n",
      "Epoch 10 of 30 took 35.501s\n",
      "\t  training loss: 0.244074\n",
      "\tvalidation loss: 0.350644\n",
      "\tvalidation accuracy: 0.883\n",
      "Epoch 11 of 30 took 35.483s\n",
      "\t  training loss: 0.240746\n",
      "\tvalidation loss: 0.344598\n",
      "\tvalidation accuracy: 0.883\n",
      "Epoch 12 of 30 took 35.468s\n",
      "\t  training loss: 0.235467\n",
      "\tvalidation loss: 0.324723\n",
      "\tvalidation accuracy: 0.891\n",
      "Epoch 13 of 30 took 35.442s\n",
      "\t  training loss: 0.221652\n",
      "\tvalidation loss: 0.341243\n",
      "\tvalidation accuracy: 0.881\n",
      "Epoch 14 of 30 took 35.677s\n",
      "\t  training loss: 0.212077\n",
      "\tvalidation loss: 0.329373\n",
      "\tvalidation accuracy: 0.890\n",
      "Epoch 15 of 30 took 35.554s\n",
      "\t  training loss: 0.210777\n",
      "\tvalidation loss: 0.325489\n",
      "\tvalidation accuracy: 0.891\n",
      "Epoch 16 of 30 took 35.492s\n",
      "\t  training loss: 0.198093\n",
      "\tvalidation loss: 0.333932\n",
      "\tvalidation accuracy: 0.890\n",
      "Epoch 17 of 30 took 35.441s\n",
      "\t  training loss: 0.189273\n",
      "\tvalidation loss: 0.344570\n",
      "\tvalidation accuracy: 0.898\n",
      "Epoch 18 of 30 took 35.408s\n",
      "\t  training loss: 0.185006\n",
      "\tvalidation loss: 0.345646\n",
      "\tvalidation accuracy: 0.895\n",
      "Epoch 19 of 30 took 35.453s\n",
      "\t  training loss: 0.181522\n",
      "\tvalidation loss: 0.344410\n",
      "\tvalidation accuracy: 0.899\n",
      "Epoch 20 of 30 took 35.692s\n",
      "\t  training loss: 0.175108\n",
      "\tvalidation loss: 0.339355\n",
      "\tvalidation accuracy: 0.898\n",
      "Epoch 21 of 30 took 35.449s\n",
      "\t  training loss: 0.173922\n",
      "\tvalidation loss: 0.387000\n",
      "\tvalidation accuracy: 0.894\n",
      "Epoch 22 of 30 took 35.411s\n",
      "\t  training loss: 0.174101\n",
      "\tvalidation loss: 0.378696\n",
      "\tvalidation accuracy: 0.897\n",
      "Epoch 23 of 30 took 35.406s\n",
      "\t  training loss: 0.162271\n",
      "\tvalidation loss: 0.379569\n",
      "\tvalidation accuracy: 0.897\n",
      "Epoch 24 of 30 took 35.398s\n",
      "\t  training loss: 0.158904\n",
      "\tvalidation loss: 0.391150\n",
      "\tvalidation accuracy: 0.893\n",
      "Epoch 25 of 30 took 35.361s\n",
      "\t  training loss: 0.145575\n",
      "\tvalidation loss: 0.367292\n",
      "\tvalidation accuracy: 0.899\n",
      "Epoch 26 of 30 took 35.741s\n",
      "\t  training loss: 0.149585\n",
      "\tvalidation loss: 0.391213\n",
      "\tvalidation accuracy: 0.894\n",
      "Epoch 27 of 30 took 35.455s\n",
      "\t  training loss: 0.137800\n",
      "\tvalidation loss: 0.414492\n",
      "\tvalidation accuracy: 0.895\n",
      "Epoch 28 of 30 took 35.527s\n",
      "\t  training loss: 0.136291\n",
      "\tvalidation loss: 0.414791\n",
      "\tvalidation accuracy: 0.894\n",
      "Epoch 29 of 30 took 35.514s\n",
      "\t  training loss: 0.132269\n",
      "\tvalidation loss: 0.427863\n",
      "\tvalidation accuracy: 0.893\n",
      "Epoch 30 of 30 took 35.564s\n",
      "\t  training loss: 0.127777\n",
      "\tvalidation loss: 0.475109\n",
      "\tvalidation accuracy: 0.896\n"
     ]
    }
   ],
   "source": [
    "n_epochs = 30\n",
    "\n",
    "train_loss, val_loss, val_accuracy = train_model(model, train_loader, test_loader, loss_func, opt, n_epochs)"
   ]
  },
  {
   "cell_type": "code",
   "execution_count": 115,
   "metadata": {
    "colab": {
     "base_uri": "https://localhost:8080/",
     "height": 335
    },
    "id": "6Rs0h4RT8n_7",
    "outputId": "51aadb24-9dc2-44ee-d511-d4a243ce1bbd"
   },
   "outputs": [
    {
     "data": {
      "image/png": "[encoded data removed]",
      "text/plain": [
       "<Figure size 1080x360 with 2 Axes>"
      ]
     },
     "metadata": {
      "needs_background": "light"
     },
     "output_type": "display_data"
    }
   ],
   "source": [
    "plot_train_process(train_loss, val_loss, val_accuracy)"
   ]
  },
  {
   "cell_type": "markdown",
   "metadata": {
    "id": "ozLg7oQkouo1"
   },
   "source": [
    "### Task 3: Fix it.\n",
    "Fix the overfitted network from the previous step (at least partially) by using regularization techniques (Dropout/Batchnorm/...) and demonstrate the results. "
   ]
  },
  {
   "cell_type": "code",
   "execution_count": 122,
   "metadata": {
    "id": "ZKsmkpfmouo2"
   },
   "outputs": [],
   "source": [
    "class FixedNeuralNetwork(nn.Module):\n",
    "    def __init__(self, input_shape=28*28, num_classes=10, input_channels=1):\n",
    "        super(self.__class__, self).__init__()\n",
    "        self.model = nn.Sequential(\n",
    "            nn.Flatten(), # This layer converts image into a vector to use Linear layers afterwards\n",
    "            # Your network structure comes here\n",
    "            nn.Dropout(0.5),\n",
    "            nn.Linear(input_shape, 8192),\n",
    "            nn.BatchNorm1d(8192),\n",
    "            nn.ReLU(),\n",
    "            nn.Dropout(0.5),\n",
    "            nn.Linear(8192, 8192),\n",
    "            nn.BatchNorm1d(8192),\n",
    "            nn.ReLU(),\n",
    "            nn.Dropout(0.5),\n",
    "            nn.Linear(8192, 4096),\n",
    "            nn.BatchNorm1d(4096),\n",
    "            nn.ReLU(),\n",
    "            nn.Dropout(0.5),\n",
    "            nn.Linear(4096, 4096),\n",
    "            nn.BatchNorm1d(4096),\n",
    "            nn.ReLU(),\n",
    "            nn.Dropout(0.5),\n",
    "            nn.Linear(4096, 2048),\n",
    "            nn.BatchNorm1d(2048),\n",
    "            nn.ReLU(),\n",
    "            nn.Linear(2048, num_classes)\n",
    "        )\n",
    "        \n",
    "    def forward(self, inp):       \n",
    "        out = self.model(inp)\n",
    "        return out"
   ]
  },
  {
   "cell_type": "code",
   "execution_count": 123,
   "metadata": {
    "colab": {
     "base_uri": "https://localhost:8080/"
    },
    "id": "U6eo_BQFouo2",
    "outputId": "935b105a-7469-4085-f5fa-7b3714c54c7c"
   },
   "outputs": [
    {
     "name": "stdout",
     "output_type": "stream",
     "text": [
      "----------------------------------------------------------------\n",
      "        Layer (type)               Output Shape         Param #\n",
      "================================================================\n",
      "           Flatten-1                  [-1, 784]               0\n",
      "           Dropout-2                  [-1, 784]               0\n",
      "            Linear-3                 [-1, 8192]       6,430,720\n",
      "       BatchNorm1d-4                 [-1, 8192]          16,384\n",
      "              ReLU-5                 [-1, 8192]               0\n",
      "           Dropout-6                 [-1, 8192]               0\n",
      "            Linear-7                 [-1, 8192]      67,117,056\n",
      "       BatchNorm1d-8                 [-1, 8192]          16,384\n",
      "              ReLU-9                 [-1, 8192]               0\n",
      "          Dropout-10                 [-1, 8192]               0\n",
      "           Linear-11                 [-1, 4096]      33,558,528\n",
      "      BatchNorm1d-12                 [-1, 4096]           8,192\n",
      "             ReLU-13                 [-1, 4096]               0\n",
      "          Dropout-14                 [-1, 4096]               0\n",
      "           Linear-15                 [-1, 4096]      16,781,312\n",
      "      BatchNorm1d-16                 [-1, 4096]           8,192\n",
      "             ReLU-17                 [-1, 4096]               0\n",
      "          Dropout-18                 [-1, 4096]               0\n",
      "           Linear-19                 [-1, 2048]       8,390,656\n",
      "      BatchNorm1d-20                 [-1, 2048]           4,096\n",
      "             ReLU-21                 [-1, 2048]               0\n",
      "           Linear-22                   [-1, 10]          20,490\n",
      "================================================================\n",
      "Total params: 132,352,010\n",
      "Trainable params: 132,352,010\n",
      "Non-trainable params: 0\n",
      "----------------------------------------------------------------\n",
      "Input size (MB): 0.00\n",
      "Forward/backward pass size (MB): 0.81\n",
      "Params size (MB): 504.88\n",
      "Estimated Total Size (MB): 505.69\n",
      "----------------------------------------------------------------\n"
     ]
    }
   ],
   "source": [
    "torchsummary.summary(FixedNeuralNetwork().to(device), (28*28,))"
   ]
  },
  {
   "cell_type": "code",
   "execution_count": 124,
   "metadata": {
    "id": "O5pNbGitouo2"
   },
   "outputs": [],
   "source": [
    "model = FixedNeuralNetwork().to(device)\n",
    "opt = torch.optim.Adam(model.parameters(), lr=1e-3)\n",
    "loss_func = nn.CrossEntropyLoss()\n",
    "\n",
    "# Your experiments, come here"
   ]
  },
  {
   "cell_type": "code",
   "execution_count": 125,
   "metadata": {
    "colab": {
     "base_uri": "https://localhost:8080/"
    },
    "id": "9wxe8fBUG4G9",
    "outputId": "de6b7aec-e611-4616-ff7f-7dcf9f3c0182"
   },
   "outputs": [
    {
     "name": "stdout",
     "output_type": "stream",
     "text": [
      "Epoch 1 of 30 took 37.390s\n",
      "\t  training loss: 0.632628\n",
      "\tvalidation loss: 0.479244\n",
      "\tvalidation accuracy: 0.825\n",
      "Epoch 2 of 30 took 36.729s\n",
      "\t  training loss: 0.528381\n",
      "\tvalidation loss: 0.437074\n",
      "\tvalidation accuracy: 0.838\n",
      "Epoch 3 of 30 took 36.883s\n",
      "\t  training loss: 0.494353\n",
      "\tvalidation loss: 0.421313\n",
      "\tvalidation accuracy: 0.844\n",
      "Epoch 4 of 30 took 36.632s\n",
      "\t  training loss: 0.475335\n",
      "\tvalidation loss: 0.427695\n",
      "\tvalidation accuracy: 0.845\n",
      "Epoch 5 of 30 took 36.669s\n",
      "\t  training loss: 0.462638\n",
      "\tvalidation loss: 0.378949\n",
      "\tvalidation accuracy: 0.860\n",
      "Epoch 6 of 30 took 36.743s\n",
      "\t  training loss: 0.449669\n",
      "\tvalidation loss: 0.392300\n",
      "\tvalidation accuracy: 0.858\n",
      "Epoch 7 of 30 took 36.684s\n",
      "\t  training loss: 0.435512\n",
      "\tvalidation loss: 0.376925\n",
      "\tvalidation accuracy: 0.858\n",
      "Epoch 8 of 30 took 36.895s\n",
      "\t  training loss: 0.427265\n",
      "\tvalidation loss: 0.369677\n",
      "\tvalidation accuracy: 0.865\n",
      "Epoch 9 of 30 took 36.817s\n",
      "\t  training loss: 0.423688\n",
      "\tvalidation loss: 0.361475\n",
      "\tvalidation accuracy: 0.867\n",
      "Epoch 10 of 30 took 36.705s\n",
      "\t  training loss: 0.414164\n",
      "\tvalidation loss: 0.354498\n",
      "\tvalidation accuracy: 0.869\n",
      "Epoch 11 of 30 took 36.554s\n",
      "\t  training loss: 0.410511\n",
      "\tvalidation loss: 0.370451\n",
      "\tvalidation accuracy: 0.862\n",
      "Epoch 12 of 30 took 36.585s\n",
      "\t  training loss: 0.404360\n",
      "\tvalidation loss: 0.372196\n",
      "\tvalidation accuracy: 0.864\n",
      "Epoch 13 of 30 took 36.645s\n",
      "\t  training loss: 0.399936\n",
      "\tvalidation loss: 0.352265\n",
      "\tvalidation accuracy: 0.870\n",
      "Epoch 14 of 30 took 36.717s\n",
      "\t  training loss: 0.394061\n",
      "\tvalidation loss: 0.360729\n",
      "\tvalidation accuracy: 0.868\n",
      "Epoch 15 of 30 took 36.553s\n",
      "\t  training loss: 0.389005\n",
      "\tvalidation loss: 0.349535\n",
      "\tvalidation accuracy: 0.870\n",
      "Epoch 16 of 30 took 36.728s\n",
      "\t  training loss: 0.386515\n",
      "\tvalidation loss: 0.339921\n",
      "\tvalidation accuracy: 0.874\n",
      "Epoch 17 of 30 took 36.588s\n",
      "\t  training loss: 0.381132\n",
      "\tvalidation loss: 0.348352\n",
      "\tvalidation accuracy: 0.869\n",
      "Epoch 18 of 30 took 36.629s\n",
      "\t  training loss: 0.377043\n",
      "\tvalidation loss: 0.330117\n",
      "\tvalidation accuracy: 0.877\n",
      "Epoch 19 of 30 took 36.633s\n",
      "\t  training loss: 0.372796\n",
      "\tvalidation loss: 0.335770\n",
      "\tvalidation accuracy: 0.877\n",
      "Epoch 20 of 30 took 36.737s\n",
      "\t  training loss: 0.369468\n",
      "\tvalidation loss: 0.339775\n",
      "\tvalidation accuracy: 0.873\n",
      "Epoch 21 of 30 took 36.611s\n",
      "\t  training loss: 0.365235\n",
      "\tvalidation loss: 0.333762\n",
      "\tvalidation accuracy: 0.877\n",
      "Epoch 22 of 30 took 36.628s\n",
      "\t  training loss: 0.363853\n",
      "\tvalidation loss: 0.328564\n",
      "\tvalidation accuracy: 0.879\n",
      "Epoch 23 of 30 took 36.567s\n",
      "\t  training loss: 0.359306\n",
      "\tvalidation loss: 0.338516\n",
      "\tvalidation accuracy: 0.874\n",
      "Epoch 24 of 30 took 36.608s\n",
      "\t  training loss: 0.357659\n",
      "\tvalidation loss: 0.331433\n",
      "\tvalidation accuracy: 0.878\n",
      "Epoch 25 of 30 took 36.610s\n",
      "\t  training loss: 0.350556\n",
      "\tvalidation loss: 0.340789\n",
      "\tvalidation accuracy: 0.874\n",
      "Epoch 26 of 30 took 36.829s\n",
      "\t  training loss: 0.352614\n",
      "\tvalidation loss: 0.321818\n",
      "\tvalidation accuracy: 0.882\n",
      "Epoch 27 of 30 took 36.620s\n",
      "\t  training loss: 0.347004\n",
      "\tvalidation loss: 0.321876\n",
      "\tvalidation accuracy: 0.879\n",
      "Epoch 28 of 30 took 36.597s\n",
      "\t  training loss: 0.348437\n",
      "\tvalidation loss: 0.321352\n",
      "\tvalidation accuracy: 0.880\n",
      "Epoch 29 of 30 took 36.592s\n",
      "\t  training loss: 0.344039\n",
      "\tvalidation loss: 0.324574\n",
      "\tvalidation accuracy: 0.882\n",
      "Epoch 30 of 30 took 36.570s\n",
      "\t  training loss: 0.340512\n",
      "\tvalidation loss: 0.324294\n",
      "\tvalidation accuracy: 0.881\n"
     ]
    }
   ],
   "source": [
    "n_epochs = 30\n",
    "\n",
    "train_loss, val_loss, val_accuracy = train_model(model, train_loader, test_loader, loss_func, opt, n_epochs)"
   ]
  },
  {
   "cell_type": "code",
   "execution_count": 126,
   "metadata": {
    "colab": {
     "base_uri": "https://localhost:8080/",
     "height": 335
    },
    "id": "w1qOklkEG8_m",
    "outputId": "441b70d2-7451-42d5-851b-8c8516e332c1"
   },
   "outputs": [
    {
     "data": {
      "image/png": "[encoded data removed]",
      "text/plain": [
       "<Figure size 1080x360 with 2 Axes>"
      ]
     },
     "metadata": {
      "needs_background": "light"
     },
     "output_type": "display_data"
    }
   ],
   "source": [
    "plot_train_process(train_loss, val_loss, val_accuracy)"
   ]
  },
  {
   "cell_type": "markdown",
   "metadata": {
    "id": "dMui_uLJ7G0d"
   },
   "source": [
    "### Conclusions:\n",
    "_Write down small report with your conclusions and your ideas._"
   ]
  },
  {
   "cell_type": "markdown",
   "metadata": {
    "id": "HdkfABaeLbQa"
   },
   "source": [
    "1. Dropout was added since model tended to become a little bit overfitted\n",
    "2. Despite the fact that the validation accuracy plot doesn't seem to be overfitted, the train loss and validation loss have significant gap. Also, validation loss has become to increase.\n",
    "3. Despite the fact that validation accuracy less than using overfitted NN, this model is better. Since we can increase number of epochs and get the better result."
   ]
  }
 ],
 "metadata": {
  "accelerator": "GPU",
  "colab": {
   "provenance": []
  },
  "gpuClass": "standard",
  "kernelspec": {
   "display_name": "Python 3 (ipykernel)",
   "language": "python",
   "name": "python3"
  },
  "language_info": {
   "codemirror_mode": {
    "name": "ipython",
    "version": 3
   },
   "file_extension": ".py",
   "mimetype": "text/x-python",
   "name": "python",
   "nbconvert_exporter": "python",
   "pygments_lexer": "ipython3",
   "version": "3.9.7"
  },
  "widgets": {
   "application/vnd.jupyter.widget-state+json": {
    "01811d00bd7545118507a4770fdf870c": {
     "model_module": "@jupyter-widgets/controls",
     "model_module_version": "1.5.0",
     "model_name": "HTMLModel",
     "state": {
      "_dom_classes": [],
      "_model_module": "@jupyter-widgets/controls",
      "_model_module_version": "1.5.0",
      "_model_name": "HTMLModel",
      "_view_count": null,
      "_view_module": "@jupyter-widgets/controls",
      "_view_module_version": "1.5.0",
      "_view_name": "HTMLView",
      "description": "",
      "description_tooltip": null,
      "layout": "IPY_MODEL_a367a716603b472a9eaec1bef32eba97",
      "placeholder": "​",
      "style": "IPY_MODEL_c1e14ffc73a34706828821dd37000f83",
      "value": " 4422102/4422102 [00:01&lt;00:00, 4570839.49it/s]"
     }
    },
    "02fa8862bcf14b10ac521090fe995114": {
     "model_module": "@jupyter-widgets/base",
     "model_module_version": "1.2.0",
     "model_name": "LayoutModel",
     "state": {
      "_model_module": "@jupyter-widgets/base",
      "_model_module_version": "1.2.0",
      "_model_name": "LayoutModel",
      "_view_count": null,
      "_view_module": "@jupyter-widgets/base",
      "_view_module_version": "1.2.0",
      "_view_name": "LayoutView",
      "align_content": null,
      "align_items": null,
      "align_self": null,
      "border": null,
      "bottom": null,
      "display": null,
      "flex": null,
      "flex_flow": null,
      "grid_area": null,
      "grid_auto_columns": null,
      "grid_auto_flow": null,
      "grid_auto_rows": null,
      "grid_column": null,
      "grid_gap": null,
      "grid_row": null,
      "grid_template_areas": null,
      "grid_template_columns": null,
      "grid_template_rows": null,
      "height": null,
      "justify_content": null,
      "justify_items": null,
      "left": null,
      "margin": null,
      "max_height": null,
      "max_width": null,
      "min_height": null,
      "min_width": null,
      "object_fit": null,
      "object_position": null,
      "order": null,
      "overflow": null,
      "overflow_x": null,
      "overflow_y": null,
      "padding": null,
      "right": null,
      "top": null,
      "visibility": null,
      "width": null
     }
    },
    "0946e62b1c724c70aeb1ff4c38337c90": {
     "model_module": "@jupyter-widgets/controls",
     "model_module_version": "1.5.0",
     "model_name": "DescriptionStyleModel",
     "state": {
      "_model_module": "@jupyter-widgets/controls",
      "_model_module_version": "1.5.0",
      "_model_name": "DescriptionStyleModel",
      "_view_count": null,
      "_view_module": "@jupyter-widgets/base",
      "_view_module_version": "1.2.0",
      "_view_name": "StyleView",
      "description_width": ""
     }
    },
    "0e23ba3db7ec4e5a89892f4008261dcb": {
     "model_module": "@jupyter-widgets/controls",
     "model_module_version": "1.5.0",
     "model_name": "HBoxModel",
     "state": {
      "_dom_classes": [],
      "_model_module": "@jupyter-widgets/controls",
      "_model_module_version": "1.5.0",
      "_model_name": "HBoxModel",
      "_view_count": null,
      "_view_module": "@jupyter-widgets/controls",
      "_view_module_version": "1.5.0",
      "_view_name": "HBoxView",
      "box_style": "",
      "children": [
       "IPY_MODEL_fd2b1564374b4b23b3f5b3c469e7f857",
       "IPY_MODEL_811866dadecb4975bc9bb596e6a98e84",
       "IPY_MODEL_ae60d47a11dd4c3ba65c6495b840277c"
      ],
      "layout": "IPY_MODEL_b3c424ad6d294732a1741274a45e87c7"
     }
    },
    "15ff5f6a927243b183adad199691a81b": {
     "model_module": "@jupyter-widgets/controls",
     "model_module_version": "1.5.0",
     "model_name": "DescriptionStyleModel",
     "state": {
      "_model_module": "@jupyter-widgets/controls",
      "_model_module_version": "1.5.0",
      "_model_name": "DescriptionStyleModel",
      "_view_count": null,
      "_view_module": "@jupyter-widgets/base",
      "_view_module_version": "1.2.0",
      "_view_name": "StyleView",
      "description_width": ""
     }
    },
    "1afe793899be4d6197c52836da12e478": {
     "model_module": "@jupyter-widgets/controls",
     "model_module_version": "1.5.0",
     "model_name": "HBoxModel",
     "state": {
      "_dom_classes": [],
      "_model_module": "@jupyter-widgets/controls",
      "_model_module_version": "1.5.0",
      "_model_name": "HBoxModel",
      "_view_count": null,
      "_view_module": "@jupyter-widgets/controls",
      "_view_module_version": "1.5.0",
      "_view_name": "HBoxView",
      "box_style": "",
      "children": [
       "IPY_MODEL_39b8ab44ff5749fea75d2073dd587a21",
       "IPY_MODEL_a9083433b8e647828931ad13f8180457",
       "IPY_MODEL_7ea4d9da54eb478f971d76b2974b45d0"
      ],
      "layout": "IPY_MODEL_e338bd95a22d4583b79aefec9812f5fd"
     }
    },
    "1fba5ebef9164f18b123e05ee1fe63e9": {
     "model_module": "@jupyter-widgets/controls",
     "model_module_version": "1.5.0",
     "model_name": "DescriptionStyleModel",
     "state": {
      "_model_module": "@jupyter-widgets/controls",
      "_model_module_version": "1.5.0",
      "_model_name": "DescriptionStyleModel",
      "_view_count": null,
      "_view_module": "@jupyter-widgets/base",
      "_view_module_version": "1.2.0",
      "_view_name": "StyleView",
      "description_width": ""
     }
    },
    "200383be1ec14621ad0d595f29be76c4": {
     "model_module": "@jupyter-widgets/controls",
     "model_module_version": "1.5.0",
     "model_name": "ProgressStyleModel",
     "state": {
      "_model_module": "@jupyter-widgets/controls",
      "_model_module_version": "1.5.0",
      "_model_name": "ProgressStyleModel",
      "_view_count": null,
      "_view_module": "@jupyter-widgets/base",
      "_view_module_version": "1.2.0",
      "_view_name": "StyleView",
      "bar_color": null,
      "description_width": ""
     }
    },
    "2018c138b620474db1f4d5fac80598b9": {
     "model_module": "@jupyter-widgets/controls",
     "model_module_version": "1.5.0",
     "model_name": "DescriptionStyleModel",
     "state": {
      "_model_module": "@jupyter-widgets/controls",
      "_model_module_version": "1.5.0",
      "_model_name": "DescriptionStyleModel",
      "_view_count": null,
      "_view_module": "@jupyter-widgets/base",
      "_view_module_version": "1.2.0",
      "_view_name": "StyleView",
      "description_width": ""
     }
    },
    "2674039285d54544817b0ce04b113886": {
     "model_module": "@jupyter-widgets/controls",
     "model_module_version": "1.5.0",
     "model_name": "HBoxModel",
     "state": {
      "_dom_classes": [],
      "_model_module": "@jupyter-widgets/controls",
      "_model_module_version": "1.5.0",
      "_model_name": "HBoxModel",
      "_view_count": null,
      "_view_module": "@jupyter-widgets/controls",
      "_view_module_version": "1.5.0",
      "_view_name": "HBoxView",
      "box_style": "",
      "children": [
       "IPY_MODEL_76fc9f4651d542859099b59ddb55f608",
       "IPY_MODEL_7ec5a0126de94b0988ce27958117d6f7",
       "IPY_MODEL_01811d00bd7545118507a4770fdf870c"
      ],
      "layout": "IPY_MODEL_ec6e889298524a35b638eff9e43dca4c"
     }
    },
    "297dbbb565cc42a2ad0085f9b3436b4d": {
     "model_module": "@jupyter-widgets/controls",
     "model_module_version": "1.5.0",
     "model_name": "DescriptionStyleModel",
     "state": {
      "_model_module": "@jupyter-widgets/controls",
      "_model_module_version": "1.5.0",
      "_model_name": "DescriptionStyleModel",
      "_view_count": null,
      "_view_module": "@jupyter-widgets/base",
      "_view_module_version": "1.2.0",
      "_view_name": "StyleView",
      "description_width": ""
     }
    },
    "31c753ace7774b059b6b4e908c387be0": {
     "model_module": "@jupyter-widgets/controls",
     "model_module_version": "1.5.0",
     "model_name": "DescriptionStyleModel",
     "state": {
      "_model_module": "@jupyter-widgets/controls",
      "_model_module_version": "1.5.0",
      "_model_name": "DescriptionStyleModel",
      "_view_count": null,
      "_view_module": "@jupyter-widgets/base",
      "_view_module_version": "1.2.0",
      "_view_name": "StyleView",
      "description_width": ""
     }
    },
    "39b8ab44ff5749fea75d2073dd587a21": {
     "model_module": "@jupyter-widgets/controls",
     "model_module_version": "1.5.0",
     "model_name": "HTMLModel",
     "state": {
      "_dom_classes": [],
      "_model_module": "@jupyter-widgets/controls",
      "_model_module_version": "1.5.0",
      "_model_name": "HTMLModel",
      "_view_count": null,
      "_view_module": "@jupyter-widgets/controls",
      "_view_module_version": "1.5.0",
      "_view_name": "HTMLView",
      "description": "",
      "description_tooltip": null,
      "layout": "IPY_MODEL_aa21856b6b6245f2811b83fdbd28474d",
      "placeholder": "​",
      "style": "IPY_MODEL_15ff5f6a927243b183adad199691a81b",
      "value": "100%"
     }
    },
    "3e1f7da3b9ed4360bb8ab6f8e1e5920f": {
     "model_module": "@jupyter-widgets/base",
     "model_module_version": "1.2.0",
     "model_name": "LayoutModel",
     "state": {
      "_model_module": "@jupyter-widgets/base",
      "_model_module_version": "1.2.0",
      "_model_name": "LayoutModel",
      "_view_count": null,
      "_view_module": "@jupyter-widgets/base",
      "_view_module_version": "1.2.0",
      "_view_name": "LayoutView",
      "align_content": null,
      "align_items": null,
      "align_self": null,
      "border": null,
      "bottom": null,
      "display": null,
      "flex": null,
      "flex_flow": null,
      "grid_area": null,
      "grid_auto_columns": null,
      "grid_auto_flow": null,
      "grid_auto_rows": null,
      "grid_column": null,
      "grid_gap": null,
      "grid_row": null,
      "grid_template_areas": null,
      "grid_template_columns": null,
      "grid_template_rows": null,
      "height": null,
      "justify_content": null,
      "justify_items": null,
      "left": null,
      "margin": null,
      "max_height": null,
      "max_width": null,
      "min_height": null,
      "min_width": null,
      "object_fit": null,
      "object_position": null,
      "order": null,
      "overflow": null,
      "overflow_x": null,
      "overflow_y": null,
      "padding": null,
      "right": null,
      "top": null,
      "visibility": null,
      "width": null
     }
    },
    "47f0d80ac0e24cafb2848ea850b80110": {
     "model_module": "@jupyter-widgets/base",
     "model_module_version": "1.2.0",
     "model_name": "LayoutModel",
     "state": {
      "_model_module": "@jupyter-widgets/base",
      "_model_module_version": "1.2.0",
      "_model_name": "LayoutModel",
      "_view_count": null,
      "_view_module": "@jupyter-widgets/base",
      "_view_module_version": "1.2.0",
      "_view_name": "LayoutView",
      "align_content": null,
      "align_items": null,
      "align_self": null,
      "border": null,
      "bottom": null,
      "display": null,
      "flex": null,
      "flex_flow": null,
      "grid_area": null,
      "grid_auto_columns": null,
      "grid_auto_flow": null,
      "grid_auto_rows": null,
      "grid_column": null,
      "grid_gap": null,
      "grid_row": null,
      "grid_template_areas": null,
      "grid_template_columns": null,
      "grid_template_rows": null,
      "height": null,
      "justify_content": null,
      "justify_items": null,
      "left": null,
      "margin": null,
      "max_height": null,
      "max_width": null,
      "min_height": null,
      "min_width": null,
      "object_fit": null,
      "object_position": null,
      "order": null,
      "overflow": null,
      "overflow_x": null,
      "overflow_y": null,
      "padding": null,
      "right": null,
      "top": null,
      "visibility": null,
      "width": null
     }
    },
    "5056960a5b74450781f1971a7fdc47f4": {
     "model_module": "@jupyter-widgets/base",
     "model_module_version": "1.2.0",
     "model_name": "LayoutModel",
     "state": {
      "_model_module": "@jupyter-widgets/base",
      "_model_module_version": "1.2.0",
      "_model_name": "LayoutModel",
      "_view_count": null,
      "_view_module": "@jupyter-widgets/base",
      "_view_module_version": "1.2.0",
      "_view_name": "LayoutView",
      "align_content": null,
      "align_items": null,
      "align_self": null,
      "border": null,
      "bottom": null,
      "display": null,
      "flex": null,
      "flex_flow": null,
      "grid_area": null,
      "grid_auto_columns": null,
      "grid_auto_flow": null,
      "grid_auto_rows": null,
      "grid_column": null,
      "grid_gap": null,
      "grid_row": null,
      "grid_template_areas": null,
      "grid_template_columns": null,
      "grid_template_rows": null,
      "height": null,
      "justify_content": null,
      "justify_items": null,
      "left": null,
      "margin": null,
      "max_height": null,
      "max_width": null,
      "min_height": null,
      "min_width": null,
      "object_fit": null,
      "object_position": null,
      "order": null,
      "overflow": null,
      "overflow_x": null,
      "overflow_y": null,
      "padding": null,
      "right": null,
      "top": null,
      "visibility": null,
      "width": null
     }
    },
    "5268f79e3c8c48cb870a5fdf8a2ff12e": {
     "model_module": "@jupyter-widgets/base",
     "model_module_version": "1.2.0",
     "model_name": "LayoutModel",
     "state": {
      "_model_module": "@jupyter-widgets/base",
      "_model_module_version": "1.2.0",
      "_model_name": "LayoutModel",
      "_view_count": null,
      "_view_module": "@jupyter-widgets/base",
      "_view_module_version": "1.2.0",
      "_view_name": "LayoutView",
      "align_content": null,
      "align_items": null,
      "align_self": null,
      "border": null,
      "bottom": null,
      "display": null,
      "flex": null,
      "flex_flow": null,
      "grid_area": null,
      "grid_auto_columns": null,
      "grid_auto_flow": null,
      "grid_auto_rows": null,
      "grid_column": null,
      "grid_gap": null,
      "grid_row": null,
      "grid_template_areas": null,
      "grid_template_columns": null,
      "grid_template_rows": null,
      "height": null,
      "justify_content": null,
      "justify_items": null,
      "left": null,
      "margin": null,
      "max_height": null,
      "max_width": null,
      "min_height": null,
      "min_width": null,
      "object_fit": null,
      "object_position": null,
      "order": null,
      "overflow": null,
      "overflow_x": null,
      "overflow_y": null,
      "padding": null,
      "right": null,
      "top": null,
      "visibility": null,
      "width": null
     }
    },
    "622f4fa1490d49e1b899f4864bcc9576": {
     "model_module": "@jupyter-widgets/base",
     "model_module_version": "1.2.0",
     "model_name": "LayoutModel",
     "state": {
      "_model_module": "@jupyter-widgets/base",
      "_model_module_version": "1.2.0",
      "_model_name": "LayoutModel",
      "_view_count": null,
      "_view_module": "@jupyter-widgets/base",
      "_view_module_version": "1.2.0",
      "_view_name": "LayoutView",
      "align_content": null,
      "align_items": null,
      "align_self": null,
      "border": null,
      "bottom": null,
      "display": null,
      "flex": null,
      "flex_flow": null,
      "grid_area": null,
      "grid_auto_columns": null,
      "grid_auto_flow": null,
      "grid_auto_rows": null,
      "grid_column": null,
      "grid_gap": null,
      "grid_row": null,
      "grid_template_areas": null,
      "grid_template_columns": null,
      "grid_template_rows": null,
      "height": null,
      "justify_content": null,
      "justify_items": null,
      "left": null,
      "margin": null,
      "max_height": null,
      "max_width": null,
      "min_height": null,
      "min_width": null,
      "object_fit": null,
      "object_position": null,
      "order": null,
      "overflow": null,
      "overflow_x": null,
      "overflow_y": null,
      "padding": null,
      "right": null,
      "top": null,
      "visibility": null,
      "width": null
     }
    },
    "6dbc70f031dd46f1aa8162b1f9578626": {
     "model_module": "@jupyter-widgets/controls",
     "model_module_version": "1.5.0",
     "model_name": "FloatProgressModel",
     "state": {
      "_dom_classes": [],
      "_model_module": "@jupyter-widgets/controls",
      "_model_module_version": "1.5.0",
      "_model_name": "FloatProgressModel",
      "_view_count": null,
      "_view_module": "@jupyter-widgets/controls",
      "_view_module_version": "1.5.0",
      "_view_name": "ProgressView",
      "bar_style": "success",
      "description": "",
      "description_tooltip": null,
      "layout": "IPY_MODEL_02fa8862bcf14b10ac521090fe995114",
      "max": 5148,
      "min": 0,
      "orientation": "horizontal",
      "style": "IPY_MODEL_8eae1c680eef40ed9368095683dc64e4",
      "value": 5148
     }
    },
    "76fc9f4651d542859099b59ddb55f608": {
     "model_module": "@jupyter-widgets/controls",
     "model_module_version": "1.5.0",
     "model_name": "HTMLModel",
     "state": {
      "_dom_classes": [],
      "_model_module": "@jupyter-widgets/controls",
      "_model_module_version": "1.5.0",
      "_model_name": "HTMLModel",
      "_view_count": null,
      "_view_module": "@jupyter-widgets/controls",
      "_view_module_version": "1.5.0",
      "_view_name": "HTMLView",
      "description": "",
      "description_tooltip": null,
      "layout": "IPY_MODEL_5268f79e3c8c48cb870a5fdf8a2ff12e",
      "placeholder": "​",
      "style": "IPY_MODEL_297dbbb565cc42a2ad0085f9b3436b4d",
      "value": "100%"
     }
    },
    "7ea4d9da54eb478f971d76b2974b45d0": {
     "model_module": "@jupyter-widgets/controls",
     "model_module_version": "1.5.0",
     "model_name": "HTMLModel",
     "state": {
      "_dom_classes": [],
      "_model_module": "@jupyter-widgets/controls",
      "_model_module_version": "1.5.0",
      "_model_name": "HTMLModel",
      "_view_count": null,
      "_view_module": "@jupyter-widgets/controls",
      "_view_module_version": "1.5.0",
      "_view_name": "HTMLView",
      "description": "",
      "description_tooltip": null,
      "layout": "IPY_MODEL_c90794d4250f4a03872cc8d963568dc5",
      "placeholder": "​",
      "style": "IPY_MODEL_31c753ace7774b059b6b4e908c387be0",
      "value": " 29515/29515 [00:00&lt;00:00, 146451.00it/s]"
     }
    },
    "7ec5a0126de94b0988ce27958117d6f7": {
     "model_module": "@jupyter-widgets/controls",
     "model_module_version": "1.5.0",
     "model_name": "FloatProgressModel",
     "state": {
      "_dom_classes": [],
      "_model_module": "@jupyter-widgets/controls",
      "_model_module_version": "1.5.0",
      "_model_name": "FloatProgressModel",
      "_view_count": null,
      "_view_module": "@jupyter-widgets/controls",
      "_view_module_version": "1.5.0",
      "_view_name": "ProgressView",
      "bar_style": "success",
      "description": "",
      "description_tooltip": null,
      "layout": "IPY_MODEL_622f4fa1490d49e1b899f4864bcc9576",
      "max": 4422102,
      "min": 0,
      "orientation": "horizontal",
      "style": "IPY_MODEL_d3fcfa3f23754ad5bac15a1664a335fc",
      "value": 4422102
     }
    },
    "811866dadecb4975bc9bb596e6a98e84": {
     "model_module": "@jupyter-widgets/controls",
     "model_module_version": "1.5.0",
     "model_name": "FloatProgressModel",
     "state": {
      "_dom_classes": [],
      "_model_module": "@jupyter-widgets/controls",
      "_model_module_version": "1.5.0",
      "_model_name": "FloatProgressModel",
      "_view_count": null,
      "_view_module": "@jupyter-widgets/controls",
      "_view_module_version": "1.5.0",
      "_view_name": "ProgressView",
      "bar_style": "success",
      "description": "",
      "description_tooltip": null,
      "layout": "IPY_MODEL_3e1f7da3b9ed4360bb8ab6f8e1e5920f",
      "max": 26421880,
      "min": 0,
      "orientation": "horizontal",
      "style": "IPY_MODEL_ff126d5fe5e24cd6a8c350584e30af41",
      "value": 26421880
     }
    },
    "8570d96ddfe2432facafbd1db18c07af": {
     "model_module": "@jupyter-widgets/base",
     "model_module_version": "1.2.0",
     "model_name": "LayoutModel",
     "state": {
      "_model_module": "@jupyter-widgets/base",
      "_model_module_version": "1.2.0",
      "_model_name": "LayoutModel",
      "_view_count": null,
      "_view_module": "@jupyter-widgets/base",
      "_view_module_version": "1.2.0",
      "_view_name": "LayoutView",
      "align_content": null,
      "align_items": null,
      "align_self": null,
      "border": null,
      "bottom": null,
      "display": null,
      "flex": null,
      "flex_flow": null,
      "grid_area": null,
      "grid_auto_columns": null,
      "grid_auto_flow": null,
      "grid_auto_rows": null,
      "grid_column": null,
      "grid_gap": null,
      "grid_row": null,
      "grid_template_areas": null,
      "grid_template_columns": null,
      "grid_template_rows": null,
      "height": null,
      "justify_content": null,
      "justify_items": null,
      "left": null,
      "margin": null,
      "max_height": null,
      "max_width": null,
      "min_height": null,
      "min_width": null,
      "object_fit": null,
      "object_position": null,
      "order": null,
      "overflow": null,
      "overflow_x": null,
      "overflow_y": null,
      "padding": null,
      "right": null,
      "top": null,
      "visibility": null,
      "width": null
     }
    },
    "8eae1c680eef40ed9368095683dc64e4": {
     "model_module": "@jupyter-widgets/controls",
     "model_module_version": "1.5.0",
     "model_name": "ProgressStyleModel",
     "state": {
      "_model_module": "@jupyter-widgets/controls",
      "_model_module_version": "1.5.0",
      "_model_name": "ProgressStyleModel",
      "_view_count": null,
      "_view_module": "@jupyter-widgets/base",
      "_view_module_version": "1.2.0",
      "_view_name": "StyleView",
      "bar_color": null,
      "description_width": ""
     }
    },
    "a2c40e91ff5a47e28b7c794b2c12c8d6": {
     "model_module": "@jupyter-widgets/base",
     "model_module_version": "1.2.0",
     "model_name": "LayoutModel",
     "state": {
      "_model_module": "@jupyter-widgets/base",
      "_model_module_version": "1.2.0",
      "_model_name": "LayoutModel",
      "_view_count": null,
      "_view_module": "@jupyter-widgets/base",
      "_view_module_version": "1.2.0",
      "_view_name": "LayoutView",
      "align_content": null,
      "align_items": null,
      "align_self": null,
      "border": null,
      "bottom": null,
      "display": null,
      "flex": null,
      "flex_flow": null,
      "grid_area": null,
      "grid_auto_columns": null,
      "grid_auto_flow": null,
      "grid_auto_rows": null,
      "grid_column": null,
      "grid_gap": null,
      "grid_row": null,
      "grid_template_areas": null,
      "grid_template_columns": null,
      "grid_template_rows": null,
      "height": null,
      "justify_content": null,
      "justify_items": null,
      "left": null,
      "margin": null,
      "max_height": null,
      "max_width": null,
      "min_height": null,
      "min_width": null,
      "object_fit": null,
      "object_position": null,
      "order": null,
      "overflow": null,
      "overflow_x": null,
      "overflow_y": null,
      "padding": null,
      "right": null,
      "top": null,
      "visibility": null,
      "width": null
     }
    },
    "a367a716603b472a9eaec1bef32eba97": {
     "model_module": "@jupyter-widgets/base",
     "model_module_version": "1.2.0",
     "model_name": "LayoutModel",
     "state": {
      "_model_module": "@jupyter-widgets/base",
      "_model_module_version": "1.2.0",
      "_model_name": "LayoutModel",
      "_view_count": null,
      "_view_module": "@jupyter-widgets/base",
      "_view_module_version": "1.2.0",
      "_view_name": "LayoutView",
      "align_content": null,
      "align_items": null,
      "align_self": null,
      "border": null,
      "bottom": null,
      "display": null,
      "flex": null,
      "flex_flow": null,
      "grid_area": null,
      "grid_auto_columns": null,
      "grid_auto_flow": null,
      "grid_auto_rows": null,
      "grid_column": null,
      "grid_gap": null,
      "grid_row": null,
      "grid_template_areas": null,
      "grid_template_columns": null,
      "grid_template_rows": null,
      "height": null,
      "justify_content": null,
      "justify_items": null,
      "left": null,
      "margin": null,
      "max_height": null,
      "max_width": null,
      "min_height": null,
      "min_width": null,
      "object_fit": null,
      "object_position": null,
      "order": null,
      "overflow": null,
      "overflow_x": null,
      "overflow_y": null,
      "padding": null,
      "right": null,
      "top": null,
      "visibility": null,
      "width": null
     }
    },
    "a5958603b98b4edaaf7205ad2a3fcb0f": {
     "model_module": "@jupyter-widgets/base",
     "model_module_version": "1.2.0",
     "model_name": "LayoutModel",
     "state": {
      "_model_module": "@jupyter-widgets/base",
      "_model_module_version": "1.2.0",
      "_model_name": "LayoutModel",
      "_view_count": null,
      "_view_module": "@jupyter-widgets/base",
      "_view_module_version": "1.2.0",
      "_view_name": "LayoutView",
      "align_content": null,
      "align_items": null,
      "align_self": null,
      "border": null,
      "bottom": null,
      "display": null,
      "flex": null,
      "flex_flow": null,
      "grid_area": null,
      "grid_auto_columns": null,
      "grid_auto_flow": null,
      "grid_auto_rows": null,
      "grid_column": null,
      "grid_gap": null,
      "grid_row": null,
      "grid_template_areas": null,
      "grid_template_columns": null,
      "grid_template_rows": null,
      "height": null,
      "justify_content": null,
      "justify_items": null,
      "left": null,
      "margin": null,
      "max_height": null,
      "max_width": null,
      "min_height": null,
      "min_width": null,
      "object_fit": null,
      "object_position": null,
      "order": null,
      "overflow": null,
      "overflow_x": null,
      "overflow_y": null,
      "padding": null,
      "right": null,
      "top": null,
      "visibility": null,
      "width": null
     }
    },
    "a9083433b8e647828931ad13f8180457": {
     "model_module": "@jupyter-widgets/controls",
     "model_module_version": "1.5.0",
     "model_name": "FloatProgressModel",
     "state": {
      "_dom_classes": [],
      "_model_module": "@jupyter-widgets/controls",
      "_model_module_version": "1.5.0",
      "_model_name": "FloatProgressModel",
      "_view_count": null,
      "_view_module": "@jupyter-widgets/controls",
      "_view_module_version": "1.5.0",
      "_view_name": "ProgressView",
      "bar_style": "success",
      "description": "",
      "description_tooltip": null,
      "layout": "IPY_MODEL_a5958603b98b4edaaf7205ad2a3fcb0f",
      "max": 29515,
      "min": 0,
      "orientation": "horizontal",
      "style": "IPY_MODEL_200383be1ec14621ad0d595f29be76c4",
      "value": 29515
     }
    },
    "aa21856b6b6245f2811b83fdbd28474d": {
     "model_module": "@jupyter-widgets/base",
     "model_module_version": "1.2.0",
     "model_name": "LayoutModel",
     "state": {
      "_model_module": "@jupyter-widgets/base",
      "_model_module_version": "1.2.0",
      "_model_name": "LayoutModel",
      "_view_count": null,
      "_view_module": "@jupyter-widgets/base",
      "_view_module_version": "1.2.0",
      "_view_name": "LayoutView",
      "align_content": null,
      "align_items": null,
      "align_self": null,
      "border": null,
      "bottom": null,
      "display": null,
      "flex": null,
      "flex_flow": null,
      "grid_area": null,
      "grid_auto_columns": null,
      "grid_auto_flow": null,
      "grid_auto_rows": null,
      "grid_column": null,
      "grid_gap": null,
      "grid_row": null,
      "grid_template_areas": null,
      "grid_template_columns": null,
      "grid_template_rows": null,
      "height": null,
      "justify_content": null,
      "justify_items": null,
      "left": null,
      "margin": null,
      "max_height": null,
      "max_width": null,
      "min_height": null,
      "min_width": null,
      "object_fit": null,
      "object_position": null,
      "order": null,
      "overflow": null,
      "overflow_x": null,
      "overflow_y": null,
      "padding": null,
      "right": null,
      "top": null,
      "visibility": null,
      "width": null
     }
    },
    "ae60d47a11dd4c3ba65c6495b840277c": {
     "model_module": "@jupyter-widgets/controls",
     "model_module_version": "1.5.0",
     "model_name": "HTMLModel",
     "state": {
      "_dom_classes": [],
      "_model_module": "@jupyter-widgets/controls",
      "_model_module_version": "1.5.0",
      "_model_name": "HTMLModel",
      "_view_count": null,
      "_view_module": "@jupyter-widgets/controls",
      "_view_module_version": "1.5.0",
      "_view_name": "HTMLView",
      "description": "",
      "description_tooltip": null,
      "layout": "IPY_MODEL_a2c40e91ff5a47e28b7c794b2c12c8d6",
      "placeholder": "​",
      "style": "IPY_MODEL_0946e62b1c724c70aeb1ff4c38337c90",
      "value": " 26421880/26421880 [00:02&lt;00:00, 14333935.21it/s]"
     }
    },
    "ae7187a466294b40bf913a18ae2569ac": {
     "model_module": "@jupyter-widgets/controls",
     "model_module_version": "1.5.0",
     "model_name": "HBoxModel",
     "state": {
      "_dom_classes": [],
      "_model_module": "@jupyter-widgets/controls",
      "_model_module_version": "1.5.0",
      "_model_name": "HBoxModel",
      "_view_count": null,
      "_view_module": "@jupyter-widgets/controls",
      "_view_module_version": "1.5.0",
      "_view_name": "HBoxView",
      "box_style": "",
      "children": [
       "IPY_MODEL_ce2c6c91a6694856ad7b0cacb7dbb348",
       "IPY_MODEL_6dbc70f031dd46f1aa8162b1f9578626",
       "IPY_MODEL_ca2cb76f0dde48c08225d5116eba1282"
      ],
      "layout": "IPY_MODEL_fbcd64b9a9234c61aef6cffa966dedcd"
     }
    },
    "b3c424ad6d294732a1741274a45e87c7": {
     "model_module": "@jupyter-widgets/base",
     "model_module_version": "1.2.0",
     "model_name": "LayoutModel",
     "state": {
      "_model_module": "@jupyter-widgets/base",
      "_model_module_version": "1.2.0",
      "_model_name": "LayoutModel",
      "_view_count": null,
      "_view_module": "@jupyter-widgets/base",
      "_view_module_version": "1.2.0",
      "_view_name": "LayoutView",
      "align_content": null,
      "align_items": null,
      "align_self": null,
      "border": null,
      "bottom": null,
      "display": null,
      "flex": null,
      "flex_flow": null,
      "grid_area": null,
      "grid_auto_columns": null,
      "grid_auto_flow": null,
      "grid_auto_rows": null,
      "grid_column": null,
      "grid_gap": null,
      "grid_row": null,
      "grid_template_areas": null,
      "grid_template_columns": null,
      "grid_template_rows": null,
      "height": null,
      "justify_content": null,
      "justify_items": null,
      "left": null,
      "margin": null,
      "max_height": null,
      "max_width": null,
      "min_height": null,
      "min_width": null,
      "object_fit": null,
      "object_position": null,
      "order": null,
      "overflow": null,
      "overflow_x": null,
      "overflow_y": null,
      "padding": null,
      "right": null,
      "top": null,
      "visibility": null,
      "width": null
     }
    },
    "b59caa906ad84805b87ec8eb21dc30ba": {
     "model_module": "@jupyter-widgets/controls",
     "model_module_version": "1.5.0",
     "model_name": "DescriptionStyleModel",
     "state": {
      "_model_module": "@jupyter-widgets/controls",
      "_model_module_version": "1.5.0",
      "_model_name": "DescriptionStyleModel",
      "_view_count": null,
      "_view_module": "@jupyter-widgets/base",
      "_view_module_version": "1.2.0",
      "_view_name": "StyleView",
      "description_width": ""
     }
    },
    "c1e14ffc73a34706828821dd37000f83": {
     "model_module": "@jupyter-widgets/controls",
     "model_module_version": "1.5.0",
     "model_name": "DescriptionStyleModel",
     "state": {
      "_model_module": "@jupyter-widgets/controls",
      "_model_module_version": "1.5.0",
      "_model_name": "DescriptionStyleModel",
      "_view_count": null,
      "_view_module": "@jupyter-widgets/base",
      "_view_module_version": "1.2.0",
      "_view_name": "StyleView",
      "description_width": ""
     }
    },
    "c90794d4250f4a03872cc8d963568dc5": {
     "model_module": "@jupyter-widgets/base",
     "model_module_version": "1.2.0",
     "model_name": "LayoutModel",
     "state": {
      "_model_module": "@jupyter-widgets/base",
      "_model_module_version": "1.2.0",
      "_model_name": "LayoutModel",
      "_view_count": null,
      "_view_module": "@jupyter-widgets/base",
      "_view_module_version": "1.2.0",
      "_view_name": "LayoutView",
      "align_content": null,
      "align_items": null,
      "align_self": null,
      "border": null,
      "bottom": null,
      "display": null,
      "flex": null,
      "flex_flow": null,
      "grid_area": null,
      "grid_auto_columns": null,
      "grid_auto_flow": null,
      "grid_auto_rows": null,
      "grid_column": null,
      "grid_gap": null,
      "grid_row": null,
      "grid_template_areas": null,
      "grid_template_columns": null,
      "grid_template_rows": null,
      "height": null,
      "justify_content": null,
      "justify_items": null,
      "left": null,
      "margin": null,
      "max_height": null,
      "max_width": null,
      "min_height": null,
      "min_width": null,
      "object_fit": null,
      "object_position": null,
      "order": null,
      "overflow": null,
      "overflow_x": null,
      "overflow_y": null,
      "padding": null,
      "right": null,
      "top": null,
      "visibility": null,
      "width": null
     }
    },
    "ca2cb76f0dde48c08225d5116eba1282": {
     "model_module": "@jupyter-widgets/controls",
     "model_module_version": "1.5.0",
     "model_name": "HTMLModel",
     "state": {
      "_dom_classes": [],
      "_model_module": "@jupyter-widgets/controls",
      "_model_module_version": "1.5.0",
      "_model_name": "HTMLModel",
      "_view_count": null,
      "_view_module": "@jupyter-widgets/controls",
      "_view_module_version": "1.5.0",
      "_view_name": "HTMLView",
      "description": "",
      "description_tooltip": null,
      "layout": "IPY_MODEL_8570d96ddfe2432facafbd1db18c07af",
      "placeholder": "​",
      "style": "IPY_MODEL_2018c138b620474db1f4d5fac80598b9",
      "value": " 5148/5148 [00:00&lt;00:00, 206585.12it/s]"
     }
    },
    "ce2c6c91a6694856ad7b0cacb7dbb348": {
     "model_module": "@jupyter-widgets/controls",
     "model_module_version": "1.5.0",
     "model_name": "HTMLModel",
     "state": {
      "_dom_classes": [],
      "_model_module": "@jupyter-widgets/controls",
      "_model_module_version": "1.5.0",
      "_model_name": "HTMLModel",
      "_view_count": null,
      "_view_module": "@jupyter-widgets/controls",
      "_view_module_version": "1.5.0",
      "_view_name": "HTMLView",
      "description": "",
      "description_tooltip": null,
      "layout": "IPY_MODEL_5056960a5b74450781f1971a7fdc47f4",
      "placeholder": "​",
      "style": "IPY_MODEL_1fba5ebef9164f18b123e05ee1fe63e9",
      "value": "100%"
     }
    },
    "d3fcfa3f23754ad5bac15a1664a335fc": {
     "model_module": "@jupyter-widgets/controls",
     "model_module_version": "1.5.0",
     "model_name": "ProgressStyleModel",
     "state": {
      "_model_module": "@jupyter-widgets/controls",
      "_model_module_version": "1.5.0",
      "_model_name": "ProgressStyleModel",
      "_view_count": null,
      "_view_module": "@jupyter-widgets/base",
      "_view_module_version": "1.2.0",
      "_view_name": "StyleView",
      "bar_color": null,
      "description_width": ""
     }
    },
    "e338bd95a22d4583b79aefec9812f5fd": {
     "model_module": "@jupyter-widgets/base",
     "model_module_version": "1.2.0",
     "model_name": "LayoutModel",
     "state": {
      "_model_module": "@jupyter-widgets/base",
      "_model_module_version": "1.2.0",
      "_model_name": "LayoutModel",
      "_view_count": null,
      "_view_module": "@jupyter-widgets/base",
      "_view_module_version": "1.2.0",
      "_view_name": "LayoutView",
      "align_content": null,
      "align_items": null,
      "align_self": null,
      "border": null,
      "bottom": null,
      "display": null,
      "flex": null,
      "flex_flow": null,
      "grid_area": null,
      "grid_auto_columns": null,
      "grid_auto_flow": null,
      "grid_auto_rows": null,
      "grid_column": null,
      "grid_gap": null,
      "grid_row": null,
      "grid_template_areas": null,
      "grid_template_columns": null,
      "grid_template_rows": null,
      "height": null,
      "justify_content": null,
      "justify_items": null,
      "left": null,
      "margin": null,
      "max_height": null,
      "max_width": null,
      "min_height": null,
      "min_width": null,
      "object_fit": null,
      "object_position": null,
      "order": null,
      "overflow": null,
      "overflow_x": null,
      "overflow_y": null,
      "padding": null,
      "right": null,
      "top": null,
      "visibility": null,
      "width": null
     }
    },
    "ec6e889298524a35b638eff9e43dca4c": {
     "model_module": "@jupyter-widgets/base",
     "model_module_version": "1.2.0",
     "model_name": "LayoutModel",
     "state": {
      "_model_module": "@jupyter-widgets/base",
      "_model_module_version": "1.2.0",
      "_model_name": "LayoutModel",
      "_view_count": null,
      "_view_module": "@jupyter-widgets/base",
      "_view_module_version": "1.2.0",
      "_view_name": "LayoutView",
      "align_content": null,
      "align_items": null,
      "align_self": null,
      "border": null,
      "bottom": null,
      "display": null,
      "flex": null,
      "flex_flow": null,
      "grid_area": null,
      "grid_auto_columns": null,
      "grid_auto_flow": null,
      "grid_auto_rows": null,
      "grid_column": null,
      "grid_gap": null,
      "grid_row": null,
      "grid_template_areas": null,
      "grid_template_columns": null,
      "grid_template_rows": null,
      "height": null,
      "justify_content": null,
      "justify_items": null,
      "left": null,
      "margin": null,
      "max_height": null,
      "max_width": null,
      "min_height": null,
      "min_width": null,
      "object_fit": null,
      "object_position": null,
      "order": null,
      "overflow": null,
      "overflow_x": null,
      "overflow_y": null,
      "padding": null,
      "right": null,
      "top": null,
      "visibility": null,
      "width": null
     }
    },
    "fbcd64b9a9234c61aef6cffa966dedcd": {
     "model_module": "@jupyter-widgets/base",
     "model_module_version": "1.2.0",
     "model_name": "LayoutModel",
     "state": {
      "_model_module": "@jupyter-widgets/base",
      "_model_module_version": "1.2.0",
      "_model_name": "LayoutModel",
      "_view_count": null,
      "_view_module": "@jupyter-widgets/base",
      "_view_module_version": "1.2.0",
      "_view_name": "LayoutView",
      "align_content": null,
      "align_items": null,
      "align_self": null,
      "border": null,
      "bottom": null,
      "display": null,
      "flex": null,
      "flex_flow": null,
      "grid_area": null,
      "grid_auto_columns": null,
      "grid_auto_flow": null,
      "grid_auto_rows": null,
      "grid_column": null,
      "grid_gap": null,
      "grid_row": null,
      "grid_template_areas": null,
      "grid_template_columns": null,
      "grid_template_rows": null,
      "height": null,
      "justify_content": null,
      "justify_items": null,
      "left": null,
      "margin": null,
      "max_height": null,
      "max_width": null,
      "min_height": null,
      "min_width": null,
      "object_fit": null,
      "object_position": null,
      "order": null,
      "overflow": null,
      "overflow_x": null,
      "overflow_y": null,
      "padding": null,
      "right": null,
      "top": null,
      "visibility": null,
      "width": null
     }
    },
    "fd2b1564374b4b23b3f5b3c469e7f857": {
     "model_module": "@jupyter-widgets/controls",
     "model_module_version": "1.5.0",
     "model_name": "HTMLModel",
     "state": {
      "_dom_classes": [],
      "_model_module": "@jupyter-widgets/controls",
      "_model_module_version": "1.5.0",
      "_model_name": "HTMLModel",
      "_view_count": null,
      "_view_module": "@jupyter-widgets/controls",
      "_view_module_version": "1.5.0",
      "_view_name": "HTMLView",
      "description": "",
      "description_tooltip": null,
      "layout": "IPY_MODEL_47f0d80ac0e24cafb2848ea850b80110",
      "placeholder": "​",
      "style": "IPY_MODEL_b59caa906ad84805b87ec8eb21dc30ba",
      "value": "100%"
     }
    },
    "ff126d5fe5e24cd6a8c350584e30af41": {
     "model_module": "@jupyter-widgets/controls",
     "model_module_version": "1.5.0",
     "model_name": "ProgressStyleModel",
     "state": {
      "_model_module": "@jupyter-widgets/controls",
      "_model_module_version": "1.5.0",
      "_model_name": "ProgressStyleModel",
      "_view_count": null,
      "_view_module": "@jupyter-widgets/base",
      "_view_module_version": "1.2.0",
      "_view_name": "StyleView",
      "bar_color": null,
      "description_width": ""
     }
    }
   }
  }
 },
 "nbformat": 4,
 "nbformat_minor": 1
}
